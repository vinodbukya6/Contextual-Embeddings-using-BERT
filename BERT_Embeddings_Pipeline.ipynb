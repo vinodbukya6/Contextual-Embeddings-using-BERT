{
  "nbformat": 4,
  "nbformat_minor": 0,
  "metadata": {
    "accelerator": "TPU",
    "colab": {
      "name": "BERT-Embeddings-Pipeline .ipynb",
      "provenance": [],
      "collapsed_sections": []
    },
    "kernelspec": {
      "display_name": "Python 3",
      "name": "python3"
    },
    "widgets": {
      "application/vnd.jupyter.widget-state+json": {
        "656bd5f58913482e9a73bf0fe8ab380c": {
          "model_module": "@jupyter-widgets/controls",
          "model_name": "HBoxModel",
          "state": {
            "_view_name": "HBoxView",
            "_dom_classes": [],
            "_model_name": "HBoxModel",
            "_view_module": "@jupyter-widgets/controls",
            "_model_module_version": "1.5.0",
            "_view_count": null,
            "_view_module_version": "1.5.0",
            "box_style": "",
            "layout": "IPY_MODEL_0fdd74d2016f4b0b9002a6f282b306d6",
            "_model_module": "@jupyter-widgets/controls",
            "children": [
              "IPY_MODEL_b1d601e9172a46818e0bfdec52c3079c",
              "IPY_MODEL_d6538e9249404794ae00495ab927f693"
            ]
          }
        },
        "0fdd74d2016f4b0b9002a6f282b306d6": {
          "model_module": "@jupyter-widgets/base",
          "model_name": "LayoutModel",
          "state": {
            "_view_name": "LayoutView",
            "grid_template_rows": null,
            "right": null,
            "justify_content": null,
            "_view_module": "@jupyter-widgets/base",
            "overflow": null,
            "_model_module_version": "1.2.0",
            "_view_count": null,
            "flex_flow": null,
            "width": null,
            "min_width": null,
            "border": null,
            "align_items": null,
            "bottom": null,
            "_model_module": "@jupyter-widgets/base",
            "top": null,
            "grid_column": null,
            "overflow_y": null,
            "overflow_x": null,
            "grid_auto_flow": null,
            "grid_area": null,
            "grid_template_columns": null,
            "flex": null,
            "_model_name": "LayoutModel",
            "justify_items": null,
            "grid_row": null,
            "max_height": null,
            "align_content": null,
            "visibility": null,
            "align_self": null,
            "height": null,
            "min_height": null,
            "padding": null,
            "grid_auto_rows": null,
            "grid_gap": null,
            "max_width": null,
            "order": null,
            "_view_module_version": "1.2.0",
            "grid_template_areas": null,
            "object_position": null,
            "object_fit": null,
            "grid_auto_columns": null,
            "margin": null,
            "display": null,
            "left": null
          }
        },
        "b1d601e9172a46818e0bfdec52c3079c": {
          "model_module": "@jupyter-widgets/controls",
          "model_name": "FloatProgressModel",
          "state": {
            "_view_name": "ProgressView",
            "style": "IPY_MODEL_d464ecb2d4564fb2aa11d378705f87c0",
            "_dom_classes": [],
            "description": "Downloading: 100%",
            "_model_name": "FloatProgressModel",
            "bar_style": "success",
            "max": 231508,
            "_view_module": "@jupyter-widgets/controls",
            "_model_module_version": "1.5.0",
            "value": 231508,
            "_view_count": null,
            "_view_module_version": "1.5.0",
            "orientation": "horizontal",
            "min": 0,
            "description_tooltip": null,
            "_model_module": "@jupyter-widgets/controls",
            "layout": "IPY_MODEL_9edcb3b9800b4f37b1b50129168dfb1e"
          }
        },
        "d6538e9249404794ae00495ab927f693": {
          "model_module": "@jupyter-widgets/controls",
          "model_name": "HTMLModel",
          "state": {
            "_view_name": "HTMLView",
            "style": "IPY_MODEL_4980f06f200e4dc1b17b7c9235d5e2a8",
            "_dom_classes": [],
            "description": "",
            "_model_name": "HTMLModel",
            "placeholder": "​",
            "_view_module": "@jupyter-widgets/controls",
            "_model_module_version": "1.5.0",
            "value": " 232k/232k [00:00&lt;00:00, 1.41MB/s]",
            "_view_count": null,
            "_view_module_version": "1.5.0",
            "description_tooltip": null,
            "_model_module": "@jupyter-widgets/controls",
            "layout": "IPY_MODEL_8b9da898bd154624811134aedecb9595"
          }
        },
        "d464ecb2d4564fb2aa11d378705f87c0": {
          "model_module": "@jupyter-widgets/controls",
          "model_name": "ProgressStyleModel",
          "state": {
            "_view_name": "StyleView",
            "_model_name": "ProgressStyleModel",
            "description_width": "initial",
            "_view_module": "@jupyter-widgets/base",
            "_model_module_version": "1.5.0",
            "_view_count": null,
            "_view_module_version": "1.2.0",
            "bar_color": null,
            "_model_module": "@jupyter-widgets/controls"
          }
        },
        "9edcb3b9800b4f37b1b50129168dfb1e": {
          "model_module": "@jupyter-widgets/base",
          "model_name": "LayoutModel",
          "state": {
            "_view_name": "LayoutView",
            "grid_template_rows": null,
            "right": null,
            "justify_content": null,
            "_view_module": "@jupyter-widgets/base",
            "overflow": null,
            "_model_module_version": "1.2.0",
            "_view_count": null,
            "flex_flow": null,
            "width": null,
            "min_width": null,
            "border": null,
            "align_items": null,
            "bottom": null,
            "_model_module": "@jupyter-widgets/base",
            "top": null,
            "grid_column": null,
            "overflow_y": null,
            "overflow_x": null,
            "grid_auto_flow": null,
            "grid_area": null,
            "grid_template_columns": null,
            "flex": null,
            "_model_name": "LayoutModel",
            "justify_items": null,
            "grid_row": null,
            "max_height": null,
            "align_content": null,
            "visibility": null,
            "align_self": null,
            "height": null,
            "min_height": null,
            "padding": null,
            "grid_auto_rows": null,
            "grid_gap": null,
            "max_width": null,
            "order": null,
            "_view_module_version": "1.2.0",
            "grid_template_areas": null,
            "object_position": null,
            "object_fit": null,
            "grid_auto_columns": null,
            "margin": null,
            "display": null,
            "left": null
          }
        },
        "4980f06f200e4dc1b17b7c9235d5e2a8": {
          "model_module": "@jupyter-widgets/controls",
          "model_name": "DescriptionStyleModel",
          "state": {
            "_view_name": "StyleView",
            "_model_name": "DescriptionStyleModel",
            "description_width": "",
            "_view_module": "@jupyter-widgets/base",
            "_model_module_version": "1.5.0",
            "_view_count": null,
            "_view_module_version": "1.2.0",
            "_model_module": "@jupyter-widgets/controls"
          }
        },
        "8b9da898bd154624811134aedecb9595": {
          "model_module": "@jupyter-widgets/base",
          "model_name": "LayoutModel",
          "state": {
            "_view_name": "LayoutView",
            "grid_template_rows": null,
            "right": null,
            "justify_content": null,
            "_view_module": "@jupyter-widgets/base",
            "overflow": null,
            "_model_module_version": "1.2.0",
            "_view_count": null,
            "flex_flow": null,
            "width": null,
            "min_width": null,
            "border": null,
            "align_items": null,
            "bottom": null,
            "_model_module": "@jupyter-widgets/base",
            "top": null,
            "grid_column": null,
            "overflow_y": null,
            "overflow_x": null,
            "grid_auto_flow": null,
            "grid_area": null,
            "grid_template_columns": null,
            "flex": null,
            "_model_name": "LayoutModel",
            "justify_items": null,
            "grid_row": null,
            "max_height": null,
            "align_content": null,
            "visibility": null,
            "align_self": null,
            "height": null,
            "min_height": null,
            "padding": null,
            "grid_auto_rows": null,
            "grid_gap": null,
            "max_width": null,
            "order": null,
            "_view_module_version": "1.2.0",
            "grid_template_areas": null,
            "object_position": null,
            "object_fit": null,
            "grid_auto_columns": null,
            "margin": null,
            "display": null,
            "left": null
          }
        },
        "a65e77dcda274449b4a030d54da96baa": {
          "model_module": "@jupyter-widgets/controls",
          "model_name": "HBoxModel",
          "state": {
            "_view_name": "HBoxView",
            "_dom_classes": [],
            "_model_name": "HBoxModel",
            "_view_module": "@jupyter-widgets/controls",
            "_model_module_version": "1.5.0",
            "_view_count": null,
            "_view_module_version": "1.5.0",
            "box_style": "",
            "layout": "IPY_MODEL_9825a7241f0d40039988f3a41f185b74",
            "_model_module": "@jupyter-widgets/controls",
            "children": [
              "IPY_MODEL_ec160c12768e412c8b1d15ce6dc33acc",
              "IPY_MODEL_19ae72c641b94dd28b97e787fc6808dd"
            ]
          }
        },
        "9825a7241f0d40039988f3a41f185b74": {
          "model_module": "@jupyter-widgets/base",
          "model_name": "LayoutModel",
          "state": {
            "_view_name": "LayoutView",
            "grid_template_rows": null,
            "right": null,
            "justify_content": null,
            "_view_module": "@jupyter-widgets/base",
            "overflow": null,
            "_model_module_version": "1.2.0",
            "_view_count": null,
            "flex_flow": null,
            "width": null,
            "min_width": null,
            "border": null,
            "align_items": null,
            "bottom": null,
            "_model_module": "@jupyter-widgets/base",
            "top": null,
            "grid_column": null,
            "overflow_y": null,
            "overflow_x": null,
            "grid_auto_flow": null,
            "grid_area": null,
            "grid_template_columns": null,
            "flex": null,
            "_model_name": "LayoutModel",
            "justify_items": null,
            "grid_row": null,
            "max_height": null,
            "align_content": null,
            "visibility": null,
            "align_self": null,
            "height": null,
            "min_height": null,
            "padding": null,
            "grid_auto_rows": null,
            "grid_gap": null,
            "max_width": null,
            "order": null,
            "_view_module_version": "1.2.0",
            "grid_template_areas": null,
            "object_position": null,
            "object_fit": null,
            "grid_auto_columns": null,
            "margin": null,
            "display": null,
            "left": null
          }
        },
        "ec160c12768e412c8b1d15ce6dc33acc": {
          "model_module": "@jupyter-widgets/controls",
          "model_name": "FloatProgressModel",
          "state": {
            "_view_name": "ProgressView",
            "style": "IPY_MODEL_72c6274d3c97482c875707fb90c4b9eb",
            "_dom_classes": [],
            "description": "Downloading: 100%",
            "_model_name": "FloatProgressModel",
            "bar_style": "success",
            "max": 433,
            "_view_module": "@jupyter-widgets/controls",
            "_model_module_version": "1.5.0",
            "value": 433,
            "_view_count": null,
            "_view_module_version": "1.5.0",
            "orientation": "horizontal",
            "min": 0,
            "description_tooltip": null,
            "_model_module": "@jupyter-widgets/controls",
            "layout": "IPY_MODEL_812b29b673284db5a5d06f4559e0e1e9"
          }
        },
        "19ae72c641b94dd28b97e787fc6808dd": {
          "model_module": "@jupyter-widgets/controls",
          "model_name": "HTMLModel",
          "state": {
            "_view_name": "HTMLView",
            "style": "IPY_MODEL_78ca96ef1a23402eb3f665a582591197",
            "_dom_classes": [],
            "description": "",
            "_model_name": "HTMLModel",
            "placeholder": "​",
            "_view_module": "@jupyter-widgets/controls",
            "_model_module_version": "1.5.0",
            "value": " 433/433 [00:00&lt;00:00, 1.21kB/s]",
            "_view_count": null,
            "_view_module_version": "1.5.0",
            "description_tooltip": null,
            "_model_module": "@jupyter-widgets/controls",
            "layout": "IPY_MODEL_3e46d8e9ed334ee7a59e6736dd6ffb66"
          }
        },
        "72c6274d3c97482c875707fb90c4b9eb": {
          "model_module": "@jupyter-widgets/controls",
          "model_name": "ProgressStyleModel",
          "state": {
            "_view_name": "StyleView",
            "_model_name": "ProgressStyleModel",
            "description_width": "initial",
            "_view_module": "@jupyter-widgets/base",
            "_model_module_version": "1.5.0",
            "_view_count": null,
            "_view_module_version": "1.2.0",
            "bar_color": null,
            "_model_module": "@jupyter-widgets/controls"
          }
        },
        "812b29b673284db5a5d06f4559e0e1e9": {
          "model_module": "@jupyter-widgets/base",
          "model_name": "LayoutModel",
          "state": {
            "_view_name": "LayoutView",
            "grid_template_rows": null,
            "right": null,
            "justify_content": null,
            "_view_module": "@jupyter-widgets/base",
            "overflow": null,
            "_model_module_version": "1.2.0",
            "_view_count": null,
            "flex_flow": null,
            "width": null,
            "min_width": null,
            "border": null,
            "align_items": null,
            "bottom": null,
            "_model_module": "@jupyter-widgets/base",
            "top": null,
            "grid_column": null,
            "overflow_y": null,
            "overflow_x": null,
            "grid_auto_flow": null,
            "grid_area": null,
            "grid_template_columns": null,
            "flex": null,
            "_model_name": "LayoutModel",
            "justify_items": null,
            "grid_row": null,
            "max_height": null,
            "align_content": null,
            "visibility": null,
            "align_self": null,
            "height": null,
            "min_height": null,
            "padding": null,
            "grid_auto_rows": null,
            "grid_gap": null,
            "max_width": null,
            "order": null,
            "_view_module_version": "1.2.0",
            "grid_template_areas": null,
            "object_position": null,
            "object_fit": null,
            "grid_auto_columns": null,
            "margin": null,
            "display": null,
            "left": null
          }
        },
        "78ca96ef1a23402eb3f665a582591197": {
          "model_module": "@jupyter-widgets/controls",
          "model_name": "DescriptionStyleModel",
          "state": {
            "_view_name": "StyleView",
            "_model_name": "DescriptionStyleModel",
            "description_width": "",
            "_view_module": "@jupyter-widgets/base",
            "_model_module_version": "1.5.0",
            "_view_count": null,
            "_view_module_version": "1.2.0",
            "_model_module": "@jupyter-widgets/controls"
          }
        },
        "3e46d8e9ed334ee7a59e6736dd6ffb66": {
          "model_module": "@jupyter-widgets/base",
          "model_name": "LayoutModel",
          "state": {
            "_view_name": "LayoutView",
            "grid_template_rows": null,
            "right": null,
            "justify_content": null,
            "_view_module": "@jupyter-widgets/base",
            "overflow": null,
            "_model_module_version": "1.2.0",
            "_view_count": null,
            "flex_flow": null,
            "width": null,
            "min_width": null,
            "border": null,
            "align_items": null,
            "bottom": null,
            "_model_module": "@jupyter-widgets/base",
            "top": null,
            "grid_column": null,
            "overflow_y": null,
            "overflow_x": null,
            "grid_auto_flow": null,
            "grid_area": null,
            "grid_template_columns": null,
            "flex": null,
            "_model_name": "LayoutModel",
            "justify_items": null,
            "grid_row": null,
            "max_height": null,
            "align_content": null,
            "visibility": null,
            "align_self": null,
            "height": null,
            "min_height": null,
            "padding": null,
            "grid_auto_rows": null,
            "grid_gap": null,
            "max_width": null,
            "order": null,
            "_view_module_version": "1.2.0",
            "grid_template_areas": null,
            "object_position": null,
            "object_fit": null,
            "grid_auto_columns": null,
            "margin": null,
            "display": null,
            "left": null
          }
        },
        "1f05f7f061554665bee752ddcf63a243": {
          "model_module": "@jupyter-widgets/controls",
          "model_name": "HBoxModel",
          "state": {
            "_view_name": "HBoxView",
            "_dom_classes": [],
            "_model_name": "HBoxModel",
            "_view_module": "@jupyter-widgets/controls",
            "_model_module_version": "1.5.0",
            "_view_count": null,
            "_view_module_version": "1.5.0",
            "box_style": "",
            "layout": "IPY_MODEL_f8a08a031428478c936b027adb255a1f",
            "_model_module": "@jupyter-widgets/controls",
            "children": [
              "IPY_MODEL_02d31200fc7a452183920433bd796c86",
              "IPY_MODEL_4b0a8d34f0f04443882d1f837acd6906"
            ]
          }
        },
        "f8a08a031428478c936b027adb255a1f": {
          "model_module": "@jupyter-widgets/base",
          "model_name": "LayoutModel",
          "state": {
            "_view_name": "LayoutView",
            "grid_template_rows": null,
            "right": null,
            "justify_content": null,
            "_view_module": "@jupyter-widgets/base",
            "overflow": null,
            "_model_module_version": "1.2.0",
            "_view_count": null,
            "flex_flow": null,
            "width": null,
            "min_width": null,
            "border": null,
            "align_items": null,
            "bottom": null,
            "_model_module": "@jupyter-widgets/base",
            "top": null,
            "grid_column": null,
            "overflow_y": null,
            "overflow_x": null,
            "grid_auto_flow": null,
            "grid_area": null,
            "grid_template_columns": null,
            "flex": null,
            "_model_name": "LayoutModel",
            "justify_items": null,
            "grid_row": null,
            "max_height": null,
            "align_content": null,
            "visibility": null,
            "align_self": null,
            "height": null,
            "min_height": null,
            "padding": null,
            "grid_auto_rows": null,
            "grid_gap": null,
            "max_width": null,
            "order": null,
            "_view_module_version": "1.2.0",
            "grid_template_areas": null,
            "object_position": null,
            "object_fit": null,
            "grid_auto_columns": null,
            "margin": null,
            "display": null,
            "left": null
          }
        },
        "02d31200fc7a452183920433bd796c86": {
          "model_module": "@jupyter-widgets/controls",
          "model_name": "FloatProgressModel",
          "state": {
            "_view_name": "ProgressView",
            "style": "IPY_MODEL_0008ff51ea8d40faa91e9fe74d9b468d",
            "_dom_classes": [],
            "description": "Downloading: 100%",
            "_model_name": "FloatProgressModel",
            "bar_style": "success",
            "max": 536063208,
            "_view_module": "@jupyter-widgets/controls",
            "_model_module_version": "1.5.0",
            "value": 536063208,
            "_view_count": null,
            "_view_module_version": "1.5.0",
            "orientation": "horizontal",
            "min": 0,
            "description_tooltip": null,
            "_model_module": "@jupyter-widgets/controls",
            "layout": "IPY_MODEL_9cec4763ccce42fa85ef9cab0790a89f"
          }
        },
        "4b0a8d34f0f04443882d1f837acd6906": {
          "model_module": "@jupyter-widgets/controls",
          "model_name": "HTMLModel",
          "state": {
            "_view_name": "HTMLView",
            "style": "IPY_MODEL_af8a3d0cc9d44f3a95da822657e35d26",
            "_dom_classes": [],
            "description": "",
            "_model_name": "HTMLModel",
            "placeholder": "​",
            "_view_module": "@jupyter-widgets/controls",
            "_model_module_version": "1.5.0",
            "value": " 536M/536M [00:10&lt;00:00, 49.3MB/s]",
            "_view_count": null,
            "_view_module_version": "1.5.0",
            "description_tooltip": null,
            "_model_module": "@jupyter-widgets/controls",
            "layout": "IPY_MODEL_1a761730b1144fa9b3a5c80953e243fb"
          }
        },
        "0008ff51ea8d40faa91e9fe74d9b468d": {
          "model_module": "@jupyter-widgets/controls",
          "model_name": "ProgressStyleModel",
          "state": {
            "_view_name": "StyleView",
            "_model_name": "ProgressStyleModel",
            "description_width": "initial",
            "_view_module": "@jupyter-widgets/base",
            "_model_module_version": "1.5.0",
            "_view_count": null,
            "_view_module_version": "1.2.0",
            "bar_color": null,
            "_model_module": "@jupyter-widgets/controls"
          }
        },
        "9cec4763ccce42fa85ef9cab0790a89f": {
          "model_module": "@jupyter-widgets/base",
          "model_name": "LayoutModel",
          "state": {
            "_view_name": "LayoutView",
            "grid_template_rows": null,
            "right": null,
            "justify_content": null,
            "_view_module": "@jupyter-widgets/base",
            "overflow": null,
            "_model_module_version": "1.2.0",
            "_view_count": null,
            "flex_flow": null,
            "width": null,
            "min_width": null,
            "border": null,
            "align_items": null,
            "bottom": null,
            "_model_module": "@jupyter-widgets/base",
            "top": null,
            "grid_column": null,
            "overflow_y": null,
            "overflow_x": null,
            "grid_auto_flow": null,
            "grid_area": null,
            "grid_template_columns": null,
            "flex": null,
            "_model_name": "LayoutModel",
            "justify_items": null,
            "grid_row": null,
            "max_height": null,
            "align_content": null,
            "visibility": null,
            "align_self": null,
            "height": null,
            "min_height": null,
            "padding": null,
            "grid_auto_rows": null,
            "grid_gap": null,
            "max_width": null,
            "order": null,
            "_view_module_version": "1.2.0",
            "grid_template_areas": null,
            "object_position": null,
            "object_fit": null,
            "grid_auto_columns": null,
            "margin": null,
            "display": null,
            "left": null
          }
        },
        "af8a3d0cc9d44f3a95da822657e35d26": {
          "model_module": "@jupyter-widgets/controls",
          "model_name": "DescriptionStyleModel",
          "state": {
            "_view_name": "StyleView",
            "_model_name": "DescriptionStyleModel",
            "description_width": "",
            "_view_module": "@jupyter-widgets/base",
            "_model_module_version": "1.5.0",
            "_view_count": null,
            "_view_module_version": "1.2.0",
            "_model_module": "@jupyter-widgets/controls"
          }
        },
        "1a761730b1144fa9b3a5c80953e243fb": {
          "model_module": "@jupyter-widgets/base",
          "model_name": "LayoutModel",
          "state": {
            "_view_name": "LayoutView",
            "grid_template_rows": null,
            "right": null,
            "justify_content": null,
            "_view_module": "@jupyter-widgets/base",
            "overflow": null,
            "_model_module_version": "1.2.0",
            "_view_count": null,
            "flex_flow": null,
            "width": null,
            "min_width": null,
            "border": null,
            "align_items": null,
            "bottom": null,
            "_model_module": "@jupyter-widgets/base",
            "top": null,
            "grid_column": null,
            "overflow_y": null,
            "overflow_x": null,
            "grid_auto_flow": null,
            "grid_area": null,
            "grid_template_columns": null,
            "flex": null,
            "_model_name": "LayoutModel",
            "justify_items": null,
            "grid_row": null,
            "max_height": null,
            "align_content": null,
            "visibility": null,
            "align_self": null,
            "height": null,
            "min_height": null,
            "padding": null,
            "grid_auto_rows": null,
            "grid_gap": null,
            "max_width": null,
            "order": null,
            "_view_module_version": "1.2.0",
            "grid_template_areas": null,
            "object_position": null,
            "object_fit": null,
            "grid_auto_columns": null,
            "margin": null,
            "display": null,
            "left": null
          }
        }
      }
    }
  },
  "cells": [
    {
      "cell_type": "code",
      "metadata": {
        "id": "Tc2ZkK8txKCl"
      },
      "source": [
        "# https://curiousily.com/posts/intent-recognition-with-bert-using-keras-and-tensorflow-2/\n",
        "!pip install transformers"
      ],
      "execution_count": null,
      "outputs": []
    },
    {
      "cell_type": "code",
      "metadata": {
        "colab": {
          "base_uri": "https://localhost:8080/"
        },
        "id": "9bjHqHZz22hm",
        "outputId": "05069ea6-8a30-49a9-9cc3-b92be4ba03d1"
      },
      "source": [
        "%tensorflow_version 2.x\n",
        "import tensorflow as tf\n",
        "print(tf.__version__)"
      ],
      "execution_count": null,
      "outputs": [
        {
          "output_type": "stream",
          "text": [
            "2.4.1\n"
          ],
          "name": "stdout"
        }
      ]
    },
    {
      "cell_type": "code",
      "metadata": {
        "id": "-3yJbW_728M1"
      },
      "source": [
        "# import libraries\n",
        "import numpy as np\n",
        "import pandas as pd\n",
        "from tqdm import tqdm\n",
        "import warnings\n",
        "warnings.filterwarnings('ignore')\n",
        "\n",
        "# text preprocessing\n",
        "import re\n",
        "\n",
        "# plots and metrics\n",
        "import matplotlib.pyplot as plt\n",
        "from sklearn.metrics import accuracy_score, f1_score, confusion_matrix\n",
        "from sklearn.model_selection import train_test_split\n",
        "\n",
        "# preparing input to our model\n",
        "from keras.preprocessing.text import Tokenizer\n",
        "from keras.preprocessing.sequence import pad_sequences\n",
        "from keras.utils import to_categorical\n",
        "from keras.models import Sequential, Model, model_from_json\n",
        "# keras layers\n",
        "from keras.models import Sequential\n",
        "from keras.layers import Embedding, Conv1D, GlobalMaxPooling1D, Dense, MaxPooling1D, Dropout, Flatten\n",
        "from tensorflow.keras.callbacks import EarlyStopping, ModelCheckpoint"
      ],
      "execution_count": null,
      "outputs": []
    },
    {
      "cell_type": "code",
      "metadata": {
        "colab": {
          "base_uri": "https://localhost:8080/"
        },
        "id": "KEswrCtn-e4x",
        "outputId": "f32d34a3-a6ad-4391-c0d0-dd25f565ce20"
      },
      "source": [
        "# mount drive\n",
        "from google.colab import drive\n",
        "drive.mount('/content/drive') "
      ],
      "execution_count": null,
      "outputs": [
        {
          "output_type": "stream",
          "text": [
            "Mounted at /content/drive\n"
          ],
          "name": "stdout"
        }
      ]
    },
    {
      "cell_type": "code",
      "metadata": {
        "colab": {
          "base_uri": "https://localhost:8080/",
          "height": 204
        },
        "id": "B8cSJN-F-fFA",
        "outputId": "f247090f-ab7c-44ea-91a5-fb579abf164a"
      },
      "source": [
        "folder_path = '/content/drive/My Drive/Multi-Task-W2V/data/'\n",
        "#'Pos_neg_merged_data.csv', 'combine_pos_neg-v1'\n",
        "data= pd.read_csv(folder_path + 'combine_pos_neg-v1.csv')\n",
        "data.head()"
      ],
      "execution_count": null,
      "outputs": [
        {
          "output_type": "execute_result",
          "data": {
            "text/html": [
              "<div>\n",
              "<style scoped>\n",
              "    .dataframe tbody tr th:only-of-type {\n",
              "        vertical-align: middle;\n",
              "    }\n",
              "\n",
              "    .dataframe tbody tr th {\n",
              "        vertical-align: top;\n",
              "    }\n",
              "\n",
              "    .dataframe thead th {\n",
              "        text-align: right;\n",
              "    }\n",
              "</style>\n",
              "<table border=\"1\" class=\"dataframe\">\n",
              "  <thead>\n",
              "    <tr style=\"text-align: right;\">\n",
              "      <th></th>\n",
              "      <th>sentence</th>\n",
              "      <th>label</th>\n",
              "      <th>source</th>\n",
              "    </tr>\n",
              "  </thead>\n",
              "  <tbody>\n",
              "    <tr>\n",
              "      <th>0</th>\n",
              "      <td>The price is reasonable and the service is great.</td>\n",
              "      <td>1</td>\n",
              "      <td>yelp</td>\n",
              "    </tr>\n",
              "    <tr>\n",
              "      <th>1</th>\n",
              "      <td>Was not happy.</td>\n",
              "      <td>0</td>\n",
              "      <td>amazon</td>\n",
              "    </tr>\n",
              "    <tr>\n",
              "      <th>2</th>\n",
              "      <td>VERY funny!</td>\n",
              "      <td>1</td>\n",
              "      <td>imdb</td>\n",
              "    </tr>\n",
              "    <tr>\n",
              "      <th>3</th>\n",
              "      <td>I agree with Jessica, this movie is pretty bad.</td>\n",
              "      <td>0</td>\n",
              "      <td>imdb</td>\n",
              "    </tr>\n",
              "    <tr>\n",
              "      <th>4</th>\n",
              "      <td>I'm super pissd.</td>\n",
              "      <td>0</td>\n",
              "      <td>yelp</td>\n",
              "    </tr>\n",
              "  </tbody>\n",
              "</table>\n",
              "</div>"
            ],
            "text/plain": [
              "                                            sentence  label  source\n",
              "0  The price is reasonable and the service is great.      1    yelp\n",
              "1                                     Was not happy.      0  amazon\n",
              "2                                      VERY funny!        1    imdb\n",
              "3  I agree with Jessica, this movie is pretty bad.        0    imdb\n",
              "4                                   I'm super pissd.      0    yelp"
            ]
          },
          "metadata": {
            "tags": []
          },
          "execution_count": 5
        }
      ]
    },
    {
      "cell_type": "code",
      "metadata": {
        "colab": {
          "base_uri": "https://localhost:8080/",
          "height": 204
        },
        "id": "tuyEAg3nUPvZ",
        "outputId": "812a03a9-5e84-4514-9bf4-d925c0f7eb95"
      },
      "source": [
        "data.tail()"
      ],
      "execution_count": null,
      "outputs": [
        {
          "output_type": "execute_result",
          "data": {
            "text/html": [
              "<div>\n",
              "<style scoped>\n",
              "    .dataframe tbody tr th:only-of-type {\n",
              "        vertical-align: middle;\n",
              "    }\n",
              "\n",
              "    .dataframe tbody tr th {\n",
              "        vertical-align: top;\n",
              "    }\n",
              "\n",
              "    .dataframe thead th {\n",
              "        text-align: right;\n",
              "    }\n",
              "</style>\n",
              "<table border=\"1\" class=\"dataframe\">\n",
              "  <thead>\n",
              "    <tr style=\"text-align: right;\">\n",
              "      <th></th>\n",
              "      <th>sentence</th>\n",
              "      <th>label</th>\n",
              "      <th>source</th>\n",
              "    </tr>\n",
              "  </thead>\n",
              "  <tbody>\n",
              "    <tr>\n",
              "      <th>2995</th>\n",
              "      <td>If someone orders two tacos don't' you think i...</td>\n",
              "      <td>0</td>\n",
              "      <td>yelp</td>\n",
              "    </tr>\n",
              "    <tr>\n",
              "      <th>2996</th>\n",
              "      <td>I had high hopes for this place since the burg...</td>\n",
              "      <td>0</td>\n",
              "      <td>yelp</td>\n",
              "    </tr>\n",
              "    <tr>\n",
              "      <th>2997</th>\n",
              "      <td>I exchanged the sony ericson z500a for this an...</td>\n",
              "      <td>1</td>\n",
              "      <td>amazon</td>\n",
              "    </tr>\n",
              "    <tr>\n",
              "      <th>2998</th>\n",
              "      <td>Saw the movie today and thought it was a good ...</td>\n",
              "      <td>1</td>\n",
              "      <td>imdb</td>\n",
              "    </tr>\n",
              "    <tr>\n",
              "      <th>2999</th>\n",
              "      <td>The cashier was friendly and even brought the ...</td>\n",
              "      <td>1</td>\n",
              "      <td>yelp</td>\n",
              "    </tr>\n",
              "  </tbody>\n",
              "</table>\n",
              "</div>"
            ],
            "text/plain": [
              "                                               sentence  label  source\n",
              "2995  If someone orders two tacos don't' you think i...      0    yelp\n",
              "2996  I had high hopes for this place since the burg...      0    yelp\n",
              "2997  I exchanged the sony ericson z500a for this an...      1  amazon\n",
              "2998  Saw the movie today and thought it was a good ...      1    imdb\n",
              "2999  The cashier was friendly and even brought the ...      1    yelp"
            ]
          },
          "metadata": {
            "tags": []
          },
          "execution_count": 6
        }
      ]
    },
    {
      "cell_type": "code",
      "metadata": {
        "id": "xDuoQfwb-fIA"
      },
      "source": [
        "#Defining functions for Cleaning and Normalization of Data\n",
        "import re\n",
        "import string\n",
        "def replace_url(string): # cleaning of URL\n",
        "    text = re.sub(r'http\\S+', 'LINK', string)\n",
        "    return text\n",
        "\n",
        "\n",
        "def replace_email(text):#Cleaning of Email related text\n",
        "    line = re.sub(r'[\\w\\.-]+@[\\w\\.-]+','MAIL',str(text))\n",
        "    return \"\".join(line)\n",
        "\n",
        "def rep(text):#cleaning of non standard words\n",
        "    grp = text.group(0)\n",
        "    if len(grp) > 3:\n",
        "        return grp[0:2]\n",
        "    else:\n",
        "        return grp# can change the value here on repetition\n",
        "def unique_char(rep,sentence):\n",
        "    convert = re.sub(r'(\\w)\\1+', rep, sentence) \n",
        "    return convert\n",
        "\n",
        "def find_dollar(text):#Finding the dollar sign in the text\n",
        "    line=re.sub(r'\\$\\d+(?:\\.\\d+)?','PRICE',text)\n",
        "    return \"\".join(line)\n",
        "\n",
        "def replace_emoji(text):\n",
        "    emoji_pattern = re.compile(\"[\"\n",
        "    u\"\\U0001F600-\\U0001F64F\" # emoticons\n",
        "    u\"\\U0001F300-\\U0001F5FF\" # symbols & pictographs\n",
        "    u\"\\U0001F680-\\U0001F6FF\" # transport & map symbols\n",
        "    u\"\\U0001F1E0-\\U0001F1FF\" # flags (iOS)\n",
        "    u\"\\U00002702-\\U000027B0\"\n",
        "    u\"\\U000024C2-\\U0001F251\"\n",
        "    \"]+\", flags=re.UNICODE)\n",
        "    return emoji_pattern.sub(r'EMOJI', text) \n",
        "\n",
        "puncts = [':', ')', '(', '-', '!', '?', '|', ';', '$', '&', '/', '[', ']','ª',\n",
        "          '>', '%', '=', '#', '*', '+', '\\\\', '•', '~', '@', '£', '·', '_', '{', '}', '©', '^',\n",
        "          '®', '`', '<', '→', '°', '€', '™', '›', '♥', '←', '×', '§', '″', '′', 'Â', '█',\n",
        "          '½', 'à', '…', '“', '★', '”', '–', '●', 'â', '►', '−', '¢', '²', '¬', '░', '¶',\n",
        "          '↑', '±', '¿', '▾', '═', '¦', '║', '―', '¥', '▓', '—', '‹', '─', '▒', '：', '¼',\n",
        "          '⊕', '▼', '▪', '†', '■', '’', '▀', '¨', '▄', '♫', '☆', 'é', '¯', '♦', '¤', '▲',\n",
        "          'è', '¸', '¾', 'Ã', '⋅', '‘', '∞', '∙', '）', '↓', '、', '│', '（', '»', '，', '♪',\n",
        "          '╩', '╚', '³', '・', '╦', '╣', '╔', '╗', '▬', '❤', 'ï', 'Ø', '¹', '≤', '‡', '√']\n",
        "\n",
        "def clean_text(text: str) -> str:\n",
        "    text = str(text)\n",
        "    for punct in puncts:\n",
        "        if punct in text:\n",
        "            text = text.replace(punct, f' ')\n",
        "    return text\n",
        "   \n",
        "def replace_asterisk(text):\n",
        "    text = re.sub(\"\\*\", 'ABUSE ', text)\n",
        "    return text\n",
        "\n",
        "def remove_duplicates(text):\n",
        "    text = re.sub(r'\\b(\\w+\\s*)\\1{1,}', '\\\\1', text)\n",
        "    return text\n",
        "def remove_numbers(text):\n",
        "    text = re.sub(\"(\\s\\d+)\",\" \",text) \n",
        "    return text\n",
        "def change(text):\n",
        "    if(text == ''):\n",
        "        return text\n",
        "  #calling the subfunctions in the cleaning function\n",
        "    text = text.lower()\n",
        "    text = replace_email(text)\n",
        "    text = replace_url(text)\n",
        "    text = unique_char(rep,text)\n",
        "    #text = replace_asterisk(text)\n",
        "    text = remove_duplicates(text)\n",
        "    text = clean_text(text)\n",
        "    text = remove_numbers(text)\n",
        "    text = text.strip()\n",
        "    return text"
      ],
      "execution_count": null,
      "outputs": []
    },
    {
      "cell_type": "code",
      "metadata": {
        "id": "6hpy78F9-fLx"
      },
      "source": [
        "data['clean_sentence'] = data['sentence'].apply(lambda x : change(x))"
      ],
      "execution_count": null,
      "outputs": []
    },
    {
      "cell_type": "code",
      "metadata": {
        "colab": {
          "base_uri": "https://localhost:8080/",
          "height": 204
        },
        "id": "fFiZo6yk-fOV",
        "outputId": "1f547cd9-c6bd-4676-d372-c2cbb87ccfc6"
      },
      "source": [
        "data.head()"
      ],
      "execution_count": null,
      "outputs": [
        {
          "output_type": "execute_result",
          "data": {
            "text/html": [
              "<div>\n",
              "<style scoped>\n",
              "    .dataframe tbody tr th:only-of-type {\n",
              "        vertical-align: middle;\n",
              "    }\n",
              "\n",
              "    .dataframe tbody tr th {\n",
              "        vertical-align: top;\n",
              "    }\n",
              "\n",
              "    .dataframe thead th {\n",
              "        text-align: right;\n",
              "    }\n",
              "</style>\n",
              "<table border=\"1\" class=\"dataframe\">\n",
              "  <thead>\n",
              "    <tr style=\"text-align: right;\">\n",
              "      <th></th>\n",
              "      <th>sentence</th>\n",
              "      <th>label</th>\n",
              "      <th>source</th>\n",
              "      <th>clean_sentence</th>\n",
              "    </tr>\n",
              "  </thead>\n",
              "  <tbody>\n",
              "    <tr>\n",
              "      <th>0</th>\n",
              "      <td>The price is reasonable and the service is great.</td>\n",
              "      <td>1</td>\n",
              "      <td>yelp</td>\n",
              "      <td>the price is reasonable and the service is great.</td>\n",
              "    </tr>\n",
              "    <tr>\n",
              "      <th>1</th>\n",
              "      <td>Was not happy.</td>\n",
              "      <td>0</td>\n",
              "      <td>amazon</td>\n",
              "      <td>was not happy.</td>\n",
              "    </tr>\n",
              "    <tr>\n",
              "      <th>2</th>\n",
              "      <td>VERY funny!</td>\n",
              "      <td>1</td>\n",
              "      <td>imdb</td>\n",
              "      <td>very funny</td>\n",
              "    </tr>\n",
              "    <tr>\n",
              "      <th>3</th>\n",
              "      <td>I agree with Jessica, this movie is pretty bad.</td>\n",
              "      <td>0</td>\n",
              "      <td>imdb</td>\n",
              "      <td>i agree with jessica, this movie is pretty bad.</td>\n",
              "    </tr>\n",
              "    <tr>\n",
              "      <th>4</th>\n",
              "      <td>I'm super pissd.</td>\n",
              "      <td>0</td>\n",
              "      <td>yelp</td>\n",
              "      <td>i'm super pissd.</td>\n",
              "    </tr>\n",
              "  </tbody>\n",
              "</table>\n",
              "</div>"
            ],
            "text/plain": [
              "                                            sentence  ...                                     clean_sentence\n",
              "0  The price is reasonable and the service is great.  ...  the price is reasonable and the service is great.\n",
              "1                                     Was not happy.  ...                                     was not happy.\n",
              "2                                      VERY funny!    ...                                         very funny\n",
              "3  I agree with Jessica, this movie is pretty bad.    ...    i agree with jessica, this movie is pretty bad.\n",
              "4                                   I'm super pissd.  ...                                   i'm super pissd.\n",
              "\n",
              "[5 rows x 4 columns]"
            ]
          },
          "metadata": {
            "tags": []
          },
          "execution_count": 9
        }
      ]
    },
    {
      "cell_type": "code",
      "metadata": {
        "colab": {
          "base_uri": "https://localhost:8080/"
        },
        "id": "bbSDBdJ9Gnck",
        "outputId": "7b5958a9-c3c7-49fc-ea31-f95c4de7c7b1"
      },
      "source": [
        "# drop duplicates\n",
        "temp_data = data.drop_duplicates(subset=['clean_sentence'], keep='last')\n",
        "temp_data = temp_data.dropna()\n",
        "data = temp_data.reset_index(drop=True)\n",
        "data.label.value_counts()"
      ],
      "execution_count": null,
      "outputs": [
        {
          "output_type": "execute_result",
          "data": {
            "text/plain": [
              "0    1491\n",
              "1    1488\n",
              "Name: label, dtype: int64"
            ]
          },
          "metadata": {
            "tags": []
          },
          "execution_count": 12
        }
      ]
    },
    {
      "cell_type": "code",
      "metadata": {
        "colab": {
          "base_uri": "https://localhost:8080/",
          "height": 204
        },
        "id": "ATVWnyn4FhxL",
        "outputId": "ed319f9b-e150-4e1b-ff22-8dfd30499034"
      },
      "source": [
        "final_df = data\n",
        "final_df.tail()"
      ],
      "execution_count": null,
      "outputs": [
        {
          "output_type": "execute_result",
          "data": {
            "text/html": [
              "<div>\n",
              "<style scoped>\n",
              "    .dataframe tbody tr th:only-of-type {\n",
              "        vertical-align: middle;\n",
              "    }\n",
              "\n",
              "    .dataframe tbody tr th {\n",
              "        vertical-align: top;\n",
              "    }\n",
              "\n",
              "    .dataframe thead th {\n",
              "        text-align: right;\n",
              "    }\n",
              "</style>\n",
              "<table border=\"1\" class=\"dataframe\">\n",
              "  <thead>\n",
              "    <tr style=\"text-align: right;\">\n",
              "      <th></th>\n",
              "      <th>sentence</th>\n",
              "      <th>label</th>\n",
              "      <th>source</th>\n",
              "      <th>clean_sentence</th>\n",
              "    </tr>\n",
              "  </thead>\n",
              "  <tbody>\n",
              "    <tr>\n",
              "      <th>2974</th>\n",
              "      <td>If someone orders two tacos don't' you think i...</td>\n",
              "      <td>0</td>\n",
              "      <td>yelp</td>\n",
              "      <td>if someone orders two tacos don't' you think i...</td>\n",
              "    </tr>\n",
              "    <tr>\n",
              "      <th>2975</th>\n",
              "      <td>I had high hopes for this place since the burg...</td>\n",
              "      <td>0</td>\n",
              "      <td>yelp</td>\n",
              "      <td>i had high hopes for this place since the burg...</td>\n",
              "    </tr>\n",
              "    <tr>\n",
              "      <th>2976</th>\n",
              "      <td>I exchanged the sony ericson z500a for this an...</td>\n",
              "      <td>1</td>\n",
              "      <td>amazon</td>\n",
              "      <td>i exchanged the sony ericson z500a for this an...</td>\n",
              "    </tr>\n",
              "    <tr>\n",
              "      <th>2977</th>\n",
              "      <td>Saw the movie today and thought it was a good ...</td>\n",
              "      <td>1</td>\n",
              "      <td>imdb</td>\n",
              "      <td>saw the movie today and thought it was a good ...</td>\n",
              "    </tr>\n",
              "    <tr>\n",
              "      <th>2978</th>\n",
              "      <td>The cashier was friendly and even brought the ...</td>\n",
              "      <td>1</td>\n",
              "      <td>yelp</td>\n",
              "      <td>the cashier was friendly and even brought the ...</td>\n",
              "    </tr>\n",
              "  </tbody>\n",
              "</table>\n",
              "</div>"
            ],
            "text/plain": [
              "                                               sentence  ...                                     clean_sentence\n",
              "2974  If someone orders two tacos don't' you think i...  ...  if someone orders two tacos don't' you think i...\n",
              "2975  I had high hopes for this place since the burg...  ...  i had high hopes for this place since the burg...\n",
              "2976  I exchanged the sony ericson z500a for this an...  ...  i exchanged the sony ericson z500a for this an...\n",
              "2977  Saw the movie today and thought it was a good ...  ...  saw the movie today and thought it was a good ...\n",
              "2978  The cashier was friendly and even brought the ...  ...  the cashier was friendly and even brought the ...\n",
              "\n",
              "[5 rows x 4 columns]"
            ]
          },
          "metadata": {
            "tags": []
          },
          "execution_count": 14
        }
      ]
    },
    {
      "cell_type": "code",
      "metadata": {
        "colab": {
          "base_uri": "https://localhost:8080/"
        },
        "id": "8O8QHV4gG6bo",
        "outputId": "9deb884f-477f-4274-8711-6c780c08177b"
      },
      "source": [
        "final_df.label.value_counts(), final_df.shape"
      ],
      "execution_count": null,
      "outputs": [
        {
          "output_type": "execute_result",
          "data": {
            "text/plain": [
              "(0    1491\n",
              " 1    1488\n",
              " Name: label, dtype: int64, (2979, 4))"
            ]
          },
          "metadata": {
            "tags": []
          },
          "execution_count": 15
        }
      ]
    },
    {
      "cell_type": "markdown",
      "metadata": {
        "id": "-3lZEkZfJS1D"
      },
      "source": [
        "**Steps For Extracting Contexual Embeddings from Distilbert/BERT**"
      ]
    },
    {
      "cell_type": "code",
      "metadata": {
        "colab": {
          "base_uri": "https://localhost:8080/",
          "height": 269,
          "referenced_widgets": [
            "656bd5f58913482e9a73bf0fe8ab380c",
            "0fdd74d2016f4b0b9002a6f282b306d6",
            "b1d601e9172a46818e0bfdec52c3079c",
            "d6538e9249404794ae00495ab927f693",
            "d464ecb2d4564fb2aa11d378705f87c0",
            "9edcb3b9800b4f37b1b50129168dfb1e",
            "4980f06f200e4dc1b17b7c9235d5e2a8",
            "8b9da898bd154624811134aedecb9595",
            "a65e77dcda274449b4a030d54da96baa",
            "9825a7241f0d40039988f3a41f185b74",
            "ec160c12768e412c8b1d15ce6dc33acc",
            "19ae72c641b94dd28b97e787fc6808dd",
            "72c6274d3c97482c875707fb90c4b9eb",
            "812b29b673284db5a5d06f4559e0e1e9",
            "78ca96ef1a23402eb3f665a582591197",
            "3e46d8e9ed334ee7a59e6736dd6ffb66",
            "1f05f7f061554665bee752ddcf63a243",
            "f8a08a031428478c936b027adb255a1f",
            "02d31200fc7a452183920433bd796c86",
            "4b0a8d34f0f04443882d1f837acd6906",
            "0008ff51ea8d40faa91e9fe74d9b468d",
            "9cec4763ccce42fa85ef9cab0790a89f",
            "af8a3d0cc9d44f3a95da822657e35d26",
            "1a761730b1144fa9b3a5c80953e243fb"
          ]
        },
        "id": "jjsEZ4Mj2-lV",
        "outputId": "2c31fd90-b87b-4cfc-b540-c344de325e04"
      },
      "source": [
        "import tensorflow as tf\n",
        "from transformers import BertTokenizer, TFBertModel, BertConfig\n",
        "from transformers import DistilBertTokenizer, TFDistilBertModel\n",
        "\n",
        "distil_bert = 'distilbert-base-uncased' # Name of the pretrained models\n",
        "bert = 'bert-base-uncased'\n",
        "\n",
        "#BERT \n",
        "tokenizer = BertTokenizer.from_pretrained(bert)\n",
        "model = TFBertModel.from_pretrained(bert)"
      ],
      "execution_count": null,
      "outputs": [
        {
          "output_type": "display_data",
          "data": {
            "application/vnd.jupyter.widget-view+json": {
              "model_id": "656bd5f58913482e9a73bf0fe8ab380c",
              "version_minor": 0,
              "version_major": 2
            },
            "text/plain": [
              "HBox(children=(FloatProgress(value=0.0, description='Downloading', max=231508.0, style=ProgressStyle(descripti…"
            ]
          },
          "metadata": {
            "tags": []
          }
        },
        {
          "output_type": "stream",
          "text": [
            "\n"
          ],
          "name": "stdout"
        },
        {
          "output_type": "display_data",
          "data": {
            "application/vnd.jupyter.widget-view+json": {
              "model_id": "a65e77dcda274449b4a030d54da96baa",
              "version_minor": 0,
              "version_major": 2
            },
            "text/plain": [
              "HBox(children=(FloatProgress(value=0.0, description='Downloading', max=433.0, style=ProgressStyle(description_…"
            ]
          },
          "metadata": {
            "tags": []
          }
        },
        {
          "output_type": "stream",
          "text": [
            "\n"
          ],
          "name": "stdout"
        },
        {
          "output_type": "display_data",
          "data": {
            "application/vnd.jupyter.widget-view+json": {
              "model_id": "1f05f7f061554665bee752ddcf63a243",
              "version_minor": 0,
              "version_major": 2
            },
            "text/plain": [
              "HBox(children=(FloatProgress(value=0.0, description='Downloading', max=536063208.0, style=ProgressStyle(descri…"
            ]
          },
          "metadata": {
            "tags": []
          }
        },
        {
          "output_type": "stream",
          "text": [
            "\n"
          ],
          "name": "stdout"
        },
        {
          "output_type": "stream",
          "text": [
            "Some layers from the model checkpoint at bert-base-uncased were not used when initializing TFBertModel: ['mlm___cls', 'nsp___cls']\n",
            "- This IS expected if you are initializing TFBertModel from the checkpoint of a model trained on another task or with another architecture (e.g. initializing a BertForSequenceClassification model from a BertForPreTraining model).\n",
            "- This IS NOT expected if you are initializing TFBertModel from the checkpoint of a model that you expect to be exactly identical (initializing a BertForSequenceClassification model from a BertForSequenceClassification model).\n",
            "All the layers of TFBertModel were initialized from the model checkpoint at bert-base-uncased.\n",
            "If your task is similar to the task the model of the checkpoint was trained on, you can already use TFBertModel for predictions without further training.\n"
          ],
          "name": "stderr"
        }
      ]
    },
    {
      "cell_type": "markdown",
      "metadata": {
        "id": "0LBSGbQqOlFB"
      },
      "source": [
        "**For Understanding Purpose**"
      ]
    },
    {
      "cell_type": "code",
      "metadata": {
        "colab": {
          "base_uri": "https://localhost:8080/"
        },
        "id": "PExJPIcE3GEy",
        "outputId": "0e5bfd92-963b-4937-882a-f336a88295ed"
      },
      "source": [
        "# obtain the 768-dim vector correpsoding to [CLS] which is a sentence vector\n",
        "e = tokenizer.encode(\"Hello my dog is cute\", add_special_tokens=False)\n",
        "print(e)\n",
        "\n",
        "input = tf.constant(e)[None, :]  # Batch size 1 \n",
        "print(input)\n",
        "print(type(input)) # shape: [1,8]\n",
        "\n",
        "output = model(input)\n",
        "\n",
        "print(type(output))\n",
        "print(len(output))\n",
        "print(output) #shape[1,8,768]"
      ],
      "execution_count": null,
      "outputs": [
        {
          "output_type": "stream",
          "text": [
            "[7592, 2026, 3899, 2003, 10140]\n",
            "tf.Tensor([[ 7592  2026  3899  2003 10140]], shape=(1, 5), dtype=int32)\n",
            "<class 'tensorflow.python.framework.ops.EagerTensor'>\n",
            "<class 'transformers.modeling_tf_outputs.TFBaseModelOutputWithPooling'>\n",
            "2\n",
            "TFBaseModelOutputWithPooling(last_hidden_state=<tf.Tensor: shape=(1, 5, 768), dtype=float32, numpy=\n",
            "array([[[-0.05852197,  0.45121658,  0.38024926, ..., -0.31962964,\n",
            "          0.23802868,  0.35535392],\n",
            "        [-0.73515904,  0.02028046,  0.32069477, ..., -0.20270441,\n",
            "         -0.20234984,  0.33687302],\n",
            "        [-0.6164801 ,  0.10205369,  0.15520775, ..., -0.39130968,\n",
            "         -0.16932479,  0.51754975],\n",
            "        [-0.79905194, -0.04866516,  0.1796481 , ..., -0.14961566,\n",
            "         -0.0934305 ,  0.46574074],\n",
            "        [-0.83175254, -0.07209262,  0.22768457, ..., -0.15934399,\n",
            "         -0.087263  ,  0.21164113]]], dtype=float32)>, pooler_output=<tf.Tensor: shape=(1, 768), dtype=float32, numpy=\n",
            "array([[-4.64746267e-01,  1.10109545e-01,  8.65532160e-01,\n",
            "         3.13073993e-01, -6.86106622e-01, -7.07872659e-02,\n",
            "         2.22375318e-01,  2.32550465e-02,  9.00067031e-01,\n",
            "        -9.37414825e-01,  5.37244797e-01, -6.18049324e-01,\n",
            "         9.51917350e-01, -7.71327734e-01,  8.64286959e-01,\n",
            "        -2.18050703e-01,  3.05544198e-01, -1.29637048e-01,\n",
            "         2.19308704e-01, -5.78900099e-01,  6.96792901e-01,\n",
            "        -2.84853429e-01,  5.32879412e-01,  1.98436990e-01,\n",
            "         7.16794655e-02, -8.90476465e-01,  6.53060600e-02,\n",
            "         9.18406129e-01,  8.01624775e-01,  7.40683913e-01,\n",
            "        -5.74782670e-01,  3.50233838e-02, -9.59807634e-01,\n",
            "        -1.22664042e-01,  5.44411600e-01, -8.98093641e-01,\n",
            "        -5.62120415e-02, -4.97033060e-01, -2.54579365e-01,\n",
            "        -5.16663864e-02, -8.53606403e-01,  1.39309198e-01,\n",
            "         6.09641731e-01, -3.14101398e-01,  2.48041019e-01,\n",
            "        -1.93683594e-01,  1.44543767e-01,  6.51237592e-02,\n",
            "        -7.22580492e-01, -9.41064119e-01, -8.00283909e-01,\n",
            "        -9.06647325e-01,  4.74709347e-02,  1.78771242e-01,\n",
            "         1.25593215e-01,  3.03863823e-01, -1.75979197e-01,\n",
            "         6.31821901e-02, -1.14359424e-01, -1.98636204e-01,\n",
            "        -2.56012321e-01,  1.48601443e-01,  5.48415124e-01,\n",
            "        -6.55998826e-01, -9.35572147e-01, -9.34701920e-01,\n",
            "        -1.16261512e-01, -1.89538911e-01,  1.00812353e-01,\n",
            "         2.84106471e-03,  2.93791205e-01,  3.29519324e-02,\n",
            "         3.90936345e-01, -7.85262048e-01, -9.06788409e-01,\n",
            "         4.19074856e-02, -1.54707864e-01,  3.35990876e-01,\n",
            "         1.39035881e-01, -9.35425222e-01, -6.68773055e-01,\n",
            "        -8.85785878e-01,  1.31626874e-01,  8.73364270e-01,\n",
            "        -8.92922163e-01, -3.17917883e-01, -3.02993357e-02,\n",
            "        -2.21330017e-01, -9.63173091e-01,  6.01578578e-02,\n",
            "        -3.37283202e-02,  2.04080001e-01, -7.34435976e-01,\n",
            "         2.06126496e-01,  5.09463191e-01, -2.84020454e-01,\n",
            "         7.61025846e-02,  6.16195858e-01, -4.43124101e-02,\n",
            "         2.28094310e-02,  1.15329705e-01, -7.02776015e-02,\n",
            "         1.52138367e-01, -9.23781395e-02, -4.47021499e-02,\n",
            "        -4.98259859e-03, -2.33832657e-01, -5.57292521e-01,\n",
            "        -4.28795576e-01,  8.49569961e-02,  1.14689223e-01,\n",
            "        -1.23065986e-01,  2.62817163e-02, -7.99525261e-01,\n",
            "         1.69306129e-01, -2.15686597e-02, -9.22528565e-01,\n",
            "        -1.52793556e-01, -9.57711220e-01,  4.52745885e-01,\n",
            "        -1.14177279e-01, -2.52681762e-01,  8.91242504e-01,\n",
            "         6.28789604e-01, -3.01455217e-03, -2.27363836e-02,\n",
            "         9.59429026e-01, -4.41194713e-01,  3.13768238e-01,\n",
            "        -3.07370424e-01,  7.01992154e-01, -6.26656488e-02,\n",
            "        -9.24531877e-01, -8.88515532e-01, -8.23988914e-02,\n",
            "         8.60321164e-01, -6.96380660e-02,  6.93216026e-01,\n",
            "        -1.11482702e-01,  8.80660415e-01,  8.81532013e-01,\n",
            "         4.50330704e-01, -8.50303233e-01, -2.67923921e-01,\n",
            "         2.61807591e-01,  3.78028862e-02, -6.90250039e-01,\n",
            "         1.35828465e-01,  3.94041330e-01, -5.06082654e-01,\n",
            "         3.43331113e-03, -3.45802051e-03,  8.34470510e-01,\n",
            "        -7.48685658e-01, -1.47776082e-01,  8.85310709e-01,\n",
            "         6.80290461e-01,  9.62217689e-01,  8.90916049e-01,\n",
            "        -1.83024034e-01, -2.45337188e-01,  7.65074015e-01,\n",
            "         8.40361044e-02,  8.75231400e-02,  4.31818545e-01,\n",
            "        -4.66000102e-02, -8.53179336e-01,  5.12809195e-02,\n",
            "        -6.83834672e-01,  5.67007780e-01, -6.59410954e-02,\n",
            "        -1.09744720e-01,  7.82733202e-01, -9.43231463e-01,\n",
            "        -6.94139749e-02,  2.14742087e-02,  9.26219583e-01,\n",
            "         5.19840300e-01,  9.96701568e-02, -7.99276233e-01,\n",
            "        -1.31483436e-01, -4.00921762e-01, -8.59491706e-01,\n",
            "         9.30205166e-01, -2.49875188e-02,  4.72088344e-02,\n",
            "         2.23947138e-01, -7.02750504e-01, -7.81833887e-01,\n",
            "        -4.49954033e-01,  4.69886720e-01,  5.07954955e-01,\n",
            "        -7.00515807e-01, -1.59539282e-02, -1.88256726e-01,\n",
            "        -1.81689680e-01,  2.79556036e-01,  4.53558952e-01,\n",
            "        -7.21465498e-02, -2.16576442e-01, -2.13627890e-01,\n",
            "         8.14698994e-01,  4.58783925e-01,  4.30134624e-01,\n",
            "        -7.12489426e-01,  2.02072691e-02, -7.51428664e-01,\n",
            "        -3.83186340e-01,  3.61216180e-02,  1.64279297e-01,\n",
            "        -1.23327471e-01,  9.32655931e-01, -3.42472315e-01,\n",
            "         2.60575786e-02, -4.75291550e-01, -9.48544443e-01,\n",
            "         1.02228515e-01, -5.95005751e-01,  1.16023876e-01,\n",
            "        -4.84979182e-01,  3.02018840e-02,  4.00993526e-01,\n",
            "        -8.32937479e-01,  1.28139690e-01, -6.70630217e-01,\n",
            "        -5.96170366e-01, -3.40142623e-02, -7.19859377e-02,\n",
            "         1.68556705e-01, -1.93217427e-01,  5.13883173e-01,\n",
            "        -7.10370719e-01, -1.19406000e-01,  2.60221362e-01,\n",
            "         8.67661834e-01,  8.81499350e-01, -8.12244773e-01,\n",
            "         6.80601060e-01, -3.47721484e-03,  5.13632953e-01,\n",
            "        -2.99840689e-01,  8.97846878e-01, -6.60872877e-01,\n",
            "        -2.89624278e-02, -8.44020128e-01,  8.10491860e-01,\n",
            "        -4.79705483e-01,  9.01512504e-01, -3.89996208e-02,\n",
            "        -9.14055943e-01, -9.40613449e-01,  1.36209533e-01,\n",
            "        -8.46482739e-02,  8.80677819e-01, -1.58753067e-01,\n",
            "         3.12341809e-01, -4.13599908e-01, -9.02885795e-01,\n",
            "        -4.62717980e-01,  5.37550271e-01, -9.54704404e-01,\n",
            "        -5.05470991e-01, -4.53938171e-02, -2.41849259e-01,\n",
            "        -2.10205078e-01,  6.17903881e-02, -9.07173991e-01,\n",
            "         4.84809428e-01,  2.26275213e-02,  7.88606942e-01,\n",
            "         1.44279245e-02, -4.83867824e-01,  4.36126024e-01,\n",
            "        -9.10299659e-01,  1.79473042e-01,  1.01905547e-01,\n",
            "         8.92079234e-01, -2.48507559e-02, -7.59799778e-01,\n",
            "         1.60446584e-01,  3.80260557e-01,  6.59670159e-02,\n",
            "         9.41487730e-01,  4.39264804e-01,  1.85039975e-02,\n",
            "         8.67581666e-01,  7.17442036e-01,  1.75222635e-01,\n",
            "         1.75232068e-01,  5.27470596e-02,  9.13473248e-01,\n",
            "         7.03783989e-01, -1.65899783e-01, -8.27498853e-01,\n",
            "        -2.53376752e-01,  5.23711026e-01, -3.42789292e-01,\n",
            "        -3.41235884e-02, -3.81200649e-02, -7.01153219e-01,\n",
            "        -7.59967029e-01,  9.36326087e-01,  5.56495130e-01,\n",
            "        -3.46518785e-01,  3.40634376e-01,  7.89283454e-01,\n",
            "        -2.28199318e-01, -8.58413398e-01, -1.36093855e-01,\n",
            "         9.09682930e-01, -4.01758671e-01,  1.87279224e-01,\n",
            "        -5.75343482e-02,  9.78160128e-02,  7.66706347e-01,\n",
            "        -5.30373693e-01,  7.99148440e-01,  6.00729644e-01,\n",
            "        -5.68388641e-01,  9.69639346e-02, -1.53879240e-01,\n",
            "        -7.97298551e-01,  6.91244155e-02,  2.12949552e-02,\n",
            "        -2.34858140e-01, -8.74500573e-01, -1.05894193e-01,\n",
            "        -7.66575813e-01,  1.86717004e-01,  2.91082729e-02,\n",
            "        -1.05428852e-01, -5.05412340e-01, -1.34056643e-01,\n",
            "        -6.15964293e-01,  2.43647143e-01,  1.65702283e-01,\n",
            "        -7.13360786e-01, -4.45178837e-01,  1.49799036e-02,\n",
            "        -6.30018294e-01,  7.80507088e-01, -9.34354424e-01,\n",
            "         8.72613311e-01,  2.34861560e-02, -8.73207390e-01,\n",
            "         8.58933330e-02,  3.13757122e-01, -7.77276039e-01,\n",
            "        -1.61572173e-01, -1.31859675e-01, -4.66675073e-01,\n",
            "         5.23286834e-02, -2.94101208e-01, -9.43586290e-01,\n",
            "        -2.45291665e-01, -4.40555066e-01,  4.69807448e-04,\n",
            "         9.23504010e-02,  9.00814295e-01,  4.06621322e-02,\n",
            "         7.64375985e-01,  3.39786023e-01,  9.59823489e-01,\n",
            "        -9.47720528e-01, -8.11345100e-01, -6.64636970e-01,\n",
            "        -8.76853704e-01,  8.91512990e-01,  8.85673821e-01,\n",
            "         1.12016186e-01, -4.46999788e-01, -1.00555886e-02,\n",
            "         7.86920846e-01,  1.39808476e-01, -5.02516806e-01,\n",
            "        -2.84220427e-01,  3.79940897e-01, -1.70923933e-01,\n",
            "         7.78258741e-01, -2.58886129e-01, -7.22029656e-02,\n",
            "         9.51408967e-02,  6.95347607e-01,  7.34903634e-01,\n",
            "        -7.38956928e-01,  1.20495163e-01, -1.76965848e-01,\n",
            "        -1.59668620e-03, -1.87579319e-01, -3.83733898e-01,\n",
            "        -8.18637013e-01, -1.01930112e-01,  1.50192201e-01,\n",
            "         3.24644059e-01, -2.80778587e-01,  7.53101766e-01,\n",
            "        -1.07167967e-01,  3.21138762e-02, -9.34419408e-02,\n",
            "         9.78015512e-02,  6.28592866e-03, -3.48974496e-01,\n",
            "        -7.10854053e-01, -3.46793532e-01, -9.50120032e-01,\n",
            "         6.04419529e-01, -2.11327220e-04, -4.97320108e-03,\n",
            "         1.94440886e-01, -2.50810415e-01, -1.30065888e-01,\n",
            "        -4.99158204e-01, -8.92365634e-01,  3.02548975e-01,\n",
            "         2.86528021e-01, -9.36727524e-01,  9.26290572e-01,\n",
            "         8.89143907e-03,  1.34431109e-01,  7.29141295e-01,\n",
            "         9.51542020e-01, -2.10290432e-01,  6.49822294e-04,\n",
            "        -1.32438123e-01, -9.02494192e-01,  5.73914312e-03,\n",
            "        -8.18814814e-01,  9.18082237e-01, -9.35692728e-01,\n",
            "         1.12541504e-01, -8.07817578e-02, -5.16099811e-01,\n",
            "         2.27384165e-01, -6.01725876e-01,  4.95129734e-01,\n",
            "         8.26622099e-02,  6.04848325e-01,  7.76531935e-01,\n",
            "        -4.32793379e-01, -2.04763934e-01,  3.63659784e-02,\n",
            "         9.23220158e-01, -3.54547128e-02,  6.30527362e-02,\n",
            "        -9.02475417e-01, -9.05290484e-01, -7.74622142e-01,\n",
            "        -7.31186211e-01, -9.43162203e-01,  7.58680522e-01,\n",
            "        -2.79558837e-01,  7.43418038e-02,  2.58224040e-01,\n",
            "        -1.78144634e-01, -5.22556841e-01, -5.42513907e-01,\n",
            "        -5.30226976e-02, -8.98371637e-01,  9.10085559e-01,\n",
            "         4.56547277e-04,  1.71065316e-01, -8.81153196e-02,\n",
            "         1.73016071e-01, -9.31167006e-01,  8.25255036e-01,\n",
            "         5.32279909e-01,  8.57057720e-02, -1.70591146e-01,\n",
            "        -6.56052351e-01,  3.48908424e-01, -2.63520211e-01,\n",
            "         8.55859756e-01,  5.70192710e-02,  2.33319968e-01,\n",
            "         2.60078311e-01, -7.32446969e-01,  5.15385747e-01,\n",
            "         2.48657778e-01, -2.55133826e-02,  2.30328649e-01,\n",
            "        -7.05177844e-01, -9.82241333e-02,  9.20756578e-01,\n",
            "         9.48375881e-01, -2.11586803e-01, -1.28261283e-01,\n",
            "         4.99235652e-02, -2.71256506e-01, -8.58964026e-01,\n",
            "         6.94655180e-01, -2.92829543e-01, -4.79265861e-02,\n",
            "         9.24124047e-02,  7.05799460e-02,  2.14256607e-02,\n",
            "        -2.22467065e-01,  6.56722710e-02, -2.47166112e-01,\n",
            "        -5.24489507e-02, -2.17665151e-01, -2.00218201e-01,\n",
            "         1.70649022e-01, -3.05234641e-03,  1.94563240e-01,\n",
            "        -9.63978529e-01,  7.45482922e-01, -6.42750919e-01,\n",
            "        -8.02413821e-02,  7.57464230e-01, -4.24523413e-01,\n",
            "        -2.23224331e-03, -2.34118432e-01,  5.56261837e-03,\n",
            "         2.57558614e-01, -5.45469066e-03, -1.11967191e-01,\n",
            "         9.58089009e-02,  1.94045857e-01,  8.99919093e-01,\n",
            "        -1.90047510e-02, -9.30781186e-01, -6.52736008e-01,\n",
            "        -1.08213238e-01, -8.16402376e-01, -5.12817681e-01,\n",
            "        -8.20923448e-02, -1.60955917e-02, -3.23924981e-02,\n",
            "         3.65785599e-01,  6.94554806e-01, -7.89319053e-02,\n",
            "        -8.78863633e-01,  3.76648940e-02, -2.24141598e-01,\n",
            "         9.37701821e-01,  2.04881191e-01, -1.25331417e-01,\n",
            "        -8.89635444e-01, -8.93451869e-01, -4.28786874e-01,\n",
            "         8.92897129e-01, -8.37332785e-01,  9.32341576e-01,\n",
            "        -8.73542964e-01, -2.77608007e-01,  1.20849811e-01,\n",
            "         1.14432380e-01, -8.10545325e-01,  1.95156522e-02,\n",
            "        -2.14693859e-01, -1.52576528e-02, -6.14076741e-02,\n",
            "         1.27996594e-01, -8.49077582e-01, -1.60275195e-02,\n",
            "         5.31772189e-02,  2.86609847e-02,  2.68132705e-02,\n",
            "         2.39918754e-01,  5.13941944e-01,  1.88631147e-01,\n",
            "        -1.35804743e-01, -1.93192691e-01,  1.43953357e-02,\n",
            "        -1.59015693e-02, -3.25914682e-03, -6.19377941e-02,\n",
            "         7.39402547e-02,  4.39697057e-02, -6.54593334e-02,\n",
            "        -8.70845437e-01, -2.93831304e-02,  4.16355245e-02,\n",
            "         3.79602641e-01,  2.88987666e-01, -1.73582539e-01,\n",
            "        -4.41657484e-01, -8.68429780e-01, -1.40008286e-01,\n",
            "         8.31710458e-01, -4.93670255e-03, -6.17888093e-01,\n",
            "        -6.88297987e-01,  9.52963591e-01,  9.26608384e-01,\n",
            "         6.63702786e-01, -2.74764877e-02,  8.09188783e-01,\n",
            "        -7.91541874e-01,  3.89776677e-02, -3.80671285e-02,\n",
            "         1.18370317e-01,  7.57152140e-01,  4.96914804e-01,\n",
            "        -1.33492067e-01,  1.83753207e-01, -1.19089056e-02,\n",
            "        -7.91724399e-02, -2.17631146e-01,  9.55816358e-02,\n",
            "        -1.19924545e-02, -1.74099013e-01, -2.60168552e-01,\n",
            "        -8.51238847e-01,  1.33964419e-01,  7.62997568e-02,\n",
            "        -6.45141363e-01, -5.82818091e-02,  5.18195666e-02,\n",
            "        -4.63545114e-01,  6.29589081e-01,  8.69896770e-01,\n",
            "         4.09757614e-01, -1.48307368e-01,  3.32961142e-01,\n",
            "        -1.75645143e-01,  3.79848219e-02, -8.94629047e-04,\n",
            "        -8.90002668e-01,  9.42376673e-01,  1.92617893e-01,\n",
            "         6.16211712e-01,  4.74990517e-01, -2.16962919e-02,\n",
            "         8.78681183e-01,  1.82204619e-01,  6.76880062e-01,\n",
            "        -1.63691342e-01,  2.23852426e-01,  1.70513168e-01,\n",
            "        -8.71295989e-01,  2.63101030e-02, -8.39579284e-01,\n",
            "        -1.65341645e-01, -7.91854560e-01,  1.39172971e-01,\n",
            "         1.59772024e-01,  7.43921816e-01, -6.76188469e-02,\n",
            "         9.30160820e-01,  8.68265390e-01,  3.78555171e-02,\n",
            "         5.64393222e-01,  8.72802615e-01,  4.31159558e-03,\n",
            "        -8.65683913e-01, -9.31620777e-01, -9.68989968e-01,\n",
            "        -2.01364487e-01, -3.19902934e-02, -4.62433472e-02,\n",
            "         9.86499265e-02,  3.54018100e-02,  1.57039426e-02,\n",
            "        -9.24372207e-03, -2.45502248e-01,  8.23941171e-01,\n",
            "         1.20973371e-01, -9.34553504e-01,  9.16957617e-01,\n",
            "        -4.02721047e-01,  7.57383630e-02,  1.94446146e-01,\n",
            "        -9.57164824e-01, -4.37392890e-01, -1.87136233e-01,\n",
            "        -1.73644215e-01,  7.02337742e-01,  1.29058808e-01,\n",
            "         6.74828947e-01, -8.74377415e-02, -2.89021164e-01,\n",
            "        -5.01807481e-02,  6.55059516e-01,  7.75606036e-02,\n",
            "        -9.41404581e-01,  7.75028095e-02,  9.03346121e-01,\n",
            "        -5.17913163e-01,  9.06645238e-01, -8.13452244e-01,\n",
            "        -8.55316818e-02,  8.62444460e-01,  6.54115617e-01,\n",
            "         3.55269641e-01,  6.23927116e-01,  4.05397356e-01,\n",
            "        -6.16349047e-03,  7.33278096e-01,  7.91138470e-01,\n",
            "         6.03427231e-01,  9.45092499e-01,  8.75063121e-01,\n",
            "         2.04773977e-01,  8.22447300e-01,  4.27758284e-02,\n",
            "         6.33634388e-01, -8.02313447e-01,  1.18808828e-01,\n",
            "        -7.74313733e-02,  2.61506021e-01,  1.45118132e-01,\n",
            "        -1.09210819e-01, -4.35885906e-01,  6.59777820e-01,\n",
            "         2.02477025e-03,  5.78031063e-01, -9.62914452e-02,\n",
            "         1.07748322e-01, -2.16524974e-01, -1.27762750e-01,\n",
            "        -3.96084815e-01,  3.29915822e-01,  1.17176756e-01,\n",
            "         1.77010819e-01,  9.12125766e-01, -3.27177614e-01,\n",
            "         1.17069893e-01,  1.35712996e-01, -1.12677798e-01,\n",
            "         9.13458645e-01, -8.11878681e-01,  4.86710310e-01,\n",
            "        -5.30818198e-03,  8.97811174e-01, -3.08981448e-01,\n",
            "        -4.38791029e-02,  7.17547834e-01, -6.29555643e-01,\n",
            "         6.13701493e-02,  2.16936562e-02, -4.77971345e-01,\n",
            "         2.41688982e-01,  3.18996400e-01, -1.21930264e-01,\n",
            "        -1.68313444e-01,  1.65451095e-01,  2.28223696e-01,\n",
            "        -1.15051784e-01,  7.76046515e-01,  9.38017845e-01,\n",
            "         1.49680361e-01,  1.16475321e-01,  4.85884398e-02,\n",
            "        -1.13373198e-01, -1.20054083e-02,  1.93004698e-01,\n",
            "         7.17006683e-01, -6.99950695e-01,  6.27929807e-01,\n",
            "        -7.69587159e-01,  7.37634063e-01, -8.21944356e-01,\n",
            "        -1.19662389e-01,  2.94739008e-01, -6.53048575e-01,\n",
            "        -4.57979441e-02,  3.65704775e-01,  1.67631209e-01,\n",
            "         8.80308568e-01, -8.34074080e-01,  6.45520031e-01,\n",
            "         3.95375878e-01,  7.95862317e-01,  1.79600433e-01,\n",
            "         5.39093435e-01, -3.32396716e-01,  6.49132967e-01]], dtype=float32)>, hidden_states=None, attentions=None)\n"
          ],
          "name": "stdout"
        }
      ]
    },
    {
      "cell_type": "code",
      "metadata": {
        "id": "UVIl-FevOMzc",
        "colab": {
          "base_uri": "https://localhost:8080/"
        },
        "outputId": "f19c0d3a-6368-4c1a-f642-b91766109816"
      },
      "source": [
        "text = final_df.clean_sentence[2784]\n",
        "print(text)\n",
        "e = tokenizer.encode(text, add_special_tokens=False)\n",
        "print(len(e))\n",
        "print(e)\n",
        "temp_split = tokenizer.tokenize(text)\n",
        "print(len(temp_split))\n",
        "print(temp_split)"
      ],
      "execution_count": null,
      "outputs": [
        {
          "output_type": "stream",
          "text": [
            "they also now serve indian naan bread with hummus and some spicy pine nut sauce that was out of this world.\n",
            "24\n",
            "[2027, 2036, 2085, 3710, 2796, 6583, 2319, 7852, 2007, 14910, 7606, 1998, 2070, 25482, 7222, 17490, 12901, 2008, 2001, 2041, 1997, 2023, 2088, 1012]\n",
            "24\n",
            "['they', 'also', 'now', 'serve', 'indian', 'na', '##an', 'bread', 'with', 'hum', '##mus', 'and', 'some', 'spicy', 'pine', 'nut', 'sauce', 'that', 'was', 'out', 'of', 'this', 'world', '.']\n"
          ],
          "name": "stdout"
        }
      ]
    },
    {
      "cell_type": "code",
      "metadata": {
        "colab": {
          "base_uri": "https://localhost:8080/",
          "height": 35
        },
        "id": "yMK9J34PPFuu",
        "outputId": "812054e8-4e8c-4dfe-cbdb-81e0f1344503"
      },
      "source": [
        "final_df.clean_text[2784]"
      ],
      "execution_count": null,
      "outputs": [
        {
          "output_type": "execute_result",
          "data": {
            "application/vnd.google.colaboratory.intrinsic+json": {
              "type": "string"
            },
            "text/plain": [
              "'since when did you get so good again  transcontinental flights inh  what a pleasurerelief you were'"
            ]
          },
          "metadata": {
            "tags": []
          },
          "execution_count": 35
        }
      ]
    },
    {
      "cell_type": "markdown",
      "metadata": {
        "id": "USQFrXdpPEjh"
      },
      "source": [
        "**Create function for Mapping Words to ids and Word Embeddings**"
      ]
    },
    {
      "cell_type": "code",
      "metadata": {
        "id": "N-OwB_XNxfQa"
      },
      "source": [
        "# sentence wise contextual embeddings\n",
        "def word_ids_embeddings(dataframe):\n",
        "  word_ids = {} # index of words => word->ids, ex:'for'->2005, \n",
        "  word_embeddings = {} # word->embeddings \n",
        "  dummy_index = [] # if both tokenization lengths are not matching\n",
        "  for i in tqdm(range(len(dataframe))):\n",
        "    text = str(dataframe.clean_sentence[i])\n",
        "    e = tokenizer.encode(text, add_special_tokens=False) # token ids\n",
        "    text_token = tokenizer.tokenize(text)\n",
        "    input = tf.constant(e)[None, :]  # Batch size 1 \n",
        "    output = model(input)[0][0]\n",
        "    if len(e) == len(output) == len(text_token):\n",
        "      for j in range(len(e)):\n",
        "        word_ids[text_token[j]] = e[j] # word->ids\n",
        "        final_out = np.asarray(output[j]) # convert as numpy array\n",
        "        word_embeddings[text_token[j]] = final_out # word->embeddings\n",
        "    else:\n",
        "      dummy_index.append(i) # if lengths are not matching\n",
        "  return word_ids, word_embeddings, dummy_index"
      ],
      "execution_count": null,
      "outputs": []
    },
    {
      "cell_type": "code",
      "metadata": {
        "colab": {
          "base_uri": "https://localhost:8080/"
        },
        "id": "eRa0-71XMzk0",
        "outputId": "346f0439-53b4-4638-89fc-b903802dc315"
      },
      "source": [
        "# extract embeddings using above function\n",
        "word_ids, word_embeddings, dummy_index = word_ids_embeddings(final_df)\n",
        "len(word_ids), len(word_embeddings), len(dummy_index)"
      ],
      "execution_count": null,
      "outputs": [
        {
          "output_type": "stream",
          "text": [
            "100%|██████████| 2979/2979 [10:49<00:00,  4.59it/s]\n"
          ],
          "name": "stderr"
        },
        {
          "output_type": "execute_result",
          "data": {
            "text/plain": [
              "(5183, 5183, 0)"
            ]
          },
          "metadata": {
            "tags": []
          },
          "execution_count": 19
        }
      ]
    },
    {
      "cell_type": "code",
      "metadata": {
        "id": "0qBkHw_AdB-A"
      },
      "source": [
        "# save ids words->ids as vocab.txt file\n",
        "import os\n",
        "for key, value in word_ids.items(): \n",
        "  #print(key, value[0])\n",
        "  temp = key +\" \"+str(value)\n",
        "  with open('vocab-v1.txt', 'a') as f1:\n",
        "    f1.write(temp + os.linesep)"
      ],
      "execution_count": null,
      "outputs": []
    },
    {
      "cell_type": "code",
      "metadata": {
        "colab": {
          "base_uri": "https://localhost:8080/"
        },
        "id": "VsHDPM1HIdlj",
        "outputId": "c44f61d4-073a-413d-b48d-f550a33ffad4"
      },
      "source": [
        "# max vocab - len of vocab\n",
        "max_vocab = []\n",
        "index_of_words = word_ids\n",
        "for key, value in word_embeddings.items():\n",
        "  if key in index_of_words:\n",
        "    idx = index_of_words[key]\n",
        "    max_vocab.append(idx)\n",
        "\n",
        "max(max_vocab) # 29591, 29659"
      ],
      "execution_count": null,
      "outputs": [
        {
          "output_type": "execute_result",
          "data": {
            "text/plain": [
              "29591"
            ]
          },
          "metadata": {
            "tags": []
          },
          "execution_count": 20
        }
      ]
    },
    {
      "cell_type": "markdown",
      "metadata": {
        "id": "I5B20Ic1PVEb"
      },
      "source": [
        "**Embeddings Matrix**"
      ]
    },
    {
      "cell_type": "code",
      "metadata": {
        "id": "1FVBfSmrIjcb"
      },
      "source": [
        "# helper function to create embeddings matrix\n",
        "def create_embedding_matrix(max_vocab, word_embeddings, word_index, embedding_dim):\n",
        "    vocab_size = max(max_vocab) + 1  # Adding again 1 because of reserved 0 index 29567-all ids \n",
        "    embedding_matrix = np.zeros((vocab_size, embedding_dim))\n",
        "    for word, vector in word_embeddings.items():\n",
        "      if word in word_index:\n",
        "        idx = word_index[word] \n",
        "        #print(idx, word)\n",
        "        embedding_matrix[idx] = np.array(vector, dtype=np.float32)[:embedding_dim]\n",
        "    return embedding_matrix"
      ],
      "execution_count": null,
      "outputs": []
    },
    {
      "cell_type": "code",
      "metadata": {
        "colab": {
          "base_uri": "https://localhost:8080/"
        },
        "id": "3t4xXTkaIXTm",
        "outputId": "52861d9c-8996-4621-9ddc-aca7eb0bb70c"
      },
      "source": [
        "# crate embeddings matrix\n",
        "embed_num_dims = 300 # 768, 300, 100\n",
        "index_of_words = word_ids\n",
        "embedd_matrix = create_embedding_matrix(max_vocab, word_embeddings, index_of_words, embed_num_dims)\n",
        "embedd_matrix.shape"
      ],
      "execution_count": null,
      "outputs": [
        {
          "output_type": "execute_result",
          "data": {
            "text/plain": [
              "(29592, 300)"
            ]
          },
          "metadata": {
            "tags": []
          },
          "execution_count": 22
        }
      ]
    },
    {
      "cell_type": "code",
      "metadata": {
        "id": "Bi3sivhrIXwJ"
      },
      "source": [
        "# Embedding layer before the actual CNN\n",
        "vocab_size = max(max_vocab) + 1\n",
        "max_seq_len = 100\n",
        "embedd_layer = Embedding(vocab_size,\n",
        "                         embed_num_dims,\n",
        "                         input_length = max_seq_len,\n",
        "                         weights = [embedd_matrix],\n",
        "                         trainable=False)"
      ],
      "execution_count": null,
      "outputs": []
    },
    {
      "cell_type": "markdown",
      "metadata": {
        "id": "WXtadMLpPdzl"
      },
      "source": [
        "**Create Model**"
      ]
    },
    {
      "cell_type": "code",
      "metadata": {
        "id": "WpMc2F3dJK-Y",
        "colab": {
          "base_uri": "https://localhost:8080/"
        },
        "outputId": "2981b94c-e7f6-4cc1-a52c-4456988c9455"
      },
      "source": [
        "# Convolution\n",
        "kernel_size = 3\n",
        "filters = 256\n",
        "num_classes =2\n",
        "model_cnn = Sequential()\n",
        "model_cnn.add(embedd_layer)\n",
        "model_cnn.add(Conv1D(filters, kernel_size, activation='relu'))\n",
        "model_cnn.add(GlobalMaxPooling1D())\n",
        "model_cnn.add(Dense(256, activation='relu'))\n",
        "model_cnn.add(Dense(num_classes, activation='softmax'))\n",
        "model_cnn.compile(loss = 'categorical_crossentropy', optimizer = 'adam', metrics = ['accuracy'])\n",
        "model_cnn.summary()"
      ],
      "execution_count": null,
      "outputs": [
        {
          "output_type": "stream",
          "text": [
            "Model: \"sequential_7\"\n",
            "_________________________________________________________________\n",
            "Layer (type)                 Output Shape              Param #   \n",
            "=================================================================\n",
            "embedding (Embedding)        (None, 100, 300)          8877600   \n",
            "_________________________________________________________________\n",
            "conv1d_9 (Conv1D)            (None, 98, 256)           230656    \n",
            "_________________________________________________________________\n",
            "global_max_pooling1d_4 (Glob (None, 256)               0         \n",
            "_________________________________________________________________\n",
            "dense_9 (Dense)              (None, 256)               65792     \n",
            "_________________________________________________________________\n",
            "dense_10 (Dense)             (None, 2)                 514       \n",
            "=================================================================\n",
            "Total params: 9,174,562\n",
            "Trainable params: 296,962\n",
            "Non-trainable params: 8,877,600\n",
            "_________________________________________________________________\n"
          ],
          "name": "stdout"
        }
      ]
    },
    {
      "cell_type": "code",
      "metadata": {
        "id": "GMAxglBfIX7U"
      },
      "source": [
        "# Early stopping and path to save weights \n",
        "early_stopping = EarlyStopping(monitor='val_loss', patience=10, verbose=1)\n",
        "checkpointer = ModelCheckpoint(filepath='weights_datasetv2_cnnv2.hdf5', verbose=1, save_best_only=True)"
      ],
      "execution_count": null,
      "outputs": []
    },
    {
      "cell_type": "code",
      "metadata": {
        "colab": {
          "base_uri": "https://localhost:8080/",
          "height": 204
        },
        "id": "kNCsbnyEZ3TI",
        "outputId": "b5a2a2fa-003e-40e5-df2f-9b1b16daab3f"
      },
      "source": [
        "final_df.head()"
      ],
      "execution_count": null,
      "outputs": [
        {
          "output_type": "execute_result",
          "data": {
            "text/html": [
              "<div>\n",
              "<style scoped>\n",
              "    .dataframe tbody tr th:only-of-type {\n",
              "        vertical-align: middle;\n",
              "    }\n",
              "\n",
              "    .dataframe tbody tr th {\n",
              "        vertical-align: top;\n",
              "    }\n",
              "\n",
              "    .dataframe thead th {\n",
              "        text-align: right;\n",
              "    }\n",
              "</style>\n",
              "<table border=\"1\" class=\"dataframe\">\n",
              "  <thead>\n",
              "    <tr style=\"text-align: right;\">\n",
              "      <th></th>\n",
              "      <th>sentence</th>\n",
              "      <th>label</th>\n",
              "      <th>source</th>\n",
              "      <th>clean_sentence</th>\n",
              "    </tr>\n",
              "  </thead>\n",
              "  <tbody>\n",
              "    <tr>\n",
              "      <th>0</th>\n",
              "      <td>The price is reasonable and the service is great.</td>\n",
              "      <td>1</td>\n",
              "      <td>yelp</td>\n",
              "      <td>the price is reasonable and the service is great.</td>\n",
              "    </tr>\n",
              "    <tr>\n",
              "      <th>1</th>\n",
              "      <td>Was not happy.</td>\n",
              "      <td>0</td>\n",
              "      <td>amazon</td>\n",
              "      <td>was not happy.</td>\n",
              "    </tr>\n",
              "    <tr>\n",
              "      <th>2</th>\n",
              "      <td>VERY funny!</td>\n",
              "      <td>1</td>\n",
              "      <td>imdb</td>\n",
              "      <td>very funny</td>\n",
              "    </tr>\n",
              "    <tr>\n",
              "      <th>3</th>\n",
              "      <td>I agree with Jessica, this movie is pretty bad.</td>\n",
              "      <td>0</td>\n",
              "      <td>imdb</td>\n",
              "      <td>i agree with jessica, this movie is pretty bad.</td>\n",
              "    </tr>\n",
              "    <tr>\n",
              "      <th>4</th>\n",
              "      <td>I'm super pissd.</td>\n",
              "      <td>0</td>\n",
              "      <td>yelp</td>\n",
              "      <td>i'm super pissd.</td>\n",
              "    </tr>\n",
              "  </tbody>\n",
              "</table>\n",
              "</div>"
            ],
            "text/plain": [
              "                                            sentence  ...                                     clean_sentence\n",
              "0  The price is reasonable and the service is great.  ...  the price is reasonable and the service is great.\n",
              "1                                     Was not happy.  ...                                     was not happy.\n",
              "2                                      VERY funny!    ...                                         very funny\n",
              "3  I agree with Jessica, this movie is pretty bad.    ...    i agree with jessica, this movie is pretty bad.\n",
              "4                                   I'm super pissd.  ...                                   i'm super pissd.\n",
              "\n",
              "[5 rows x 4 columns]"
            ]
          },
          "metadata": {
            "tags": []
          },
          "execution_count": 29
        }
      ]
    },
    {
      "cell_type": "markdown",
      "metadata": {
        "id": "Oh7Rbs5tPkzx"
      },
      "source": [
        "**Split Dataset and Padding**"
      ]
    },
    {
      "cell_type": "code",
      "metadata": {
        "colab": {
          "base_uri": "https://localhost:8080/"
        },
        "id": "vwG2MRVTIYN4",
        "outputId": "0bac0ba3-e352-49e8-fe6a-f196a1554b7f"
      },
      "source": [
        "# split dataset\n",
        "X = final_df.clean_sentence\n",
        "y = final_df.label\n",
        "\n",
        "X_train, X_test, y_train, y_test = train_test_split(X, y, test_size=0.2, random_state =42, shuffle=True)\n",
        "print(X_train.shape)\n",
        "print(X_test.shape)"
      ],
      "execution_count": null,
      "outputs": [
        {
          "output_type": "stream",
          "text": [
            "(2383,)\n",
            "(596,)\n"
          ],
          "name": "stdout"
        }
      ]
    },
    {
      "cell_type": "code",
      "metadata": {
        "id": "fL2cc9hRJt8H"
      },
      "source": [
        "X_train_tokenized = X_train.apply((lambda x: tokenizer.encode(x, add_special_tokens=False)))\n",
        "X_test_tokenized = X_test.apply((lambda x: tokenizer.encode(x, add_special_tokens=False)))"
      ],
      "execution_count": null,
      "outputs": []
    },
    {
      "cell_type": "code",
      "metadata": {
        "colab": {
          "base_uri": "https://localhost:8080/"
        },
        "id": "OA2IpPs8IYRm",
        "outputId": "a001804b-0d6b-4006-d39e-03b8a23ba929"
      },
      "source": [
        "max_seq_len = 100\n",
        "X_train_pad = pad_sequences(X_train_tokenized, maxlen = max_seq_len, padding='post')\n",
        "X_test_pad = pad_sequences(X_test_tokenized, maxlen = max_seq_len, padding='post')\n",
        "X_train_pad"
      ],
      "execution_count": null,
      "outputs": [
        {
          "output_type": "execute_result",
          "data": {
            "text/plain": [
              "array([[1996, 9855, 2003, ...,    0,    0,    0],\n",
              "       [1045, 4149, 2023, ...,    0,    0,    0],\n",
              "       [1999, 2755, 1010, ...,    0,    0,    0],\n",
              "       ...,\n",
              "       [1045, 2347, 1005, ...,    0,    0,    0],\n",
              "       [2057, 2288, 1996, ...,    0,    0,    0],\n",
              "       [2009, 1005, 1055, ...,    0,    0,    0]], dtype=int32)"
            ]
          },
          "metadata": {
            "tags": []
          },
          "execution_count": 32
        }
      ]
    },
    {
      "cell_type": "code",
      "metadata": {
        "id": "We-ylxIUJ3QY"
      },
      "source": [
        "encoding = {'negative': 0, 'neutral': 1, 'positive': 2}\n",
        "# Integer labels\n",
        "y_train = [encoding[x] for x in y_train]\n",
        "y_test = [encoding[x] for x in y_test]"
      ],
      "execution_count": null,
      "outputs": []
    },
    {
      "cell_type": "code",
      "metadata": {
        "colab": {
          "base_uri": "https://localhost:8080/"
        },
        "id": "Yg1qUF5lJ98U",
        "outputId": "ab3010f8-8281-4b31-8334-ebc7e99b50ff"
      },
      "source": [
        "y_train = to_categorical(y_train)\n",
        "y_test = to_categorical(y_test)\n",
        "y_train"
      ],
      "execution_count": null,
      "outputs": [
        {
          "output_type": "execute_result",
          "data": {
            "text/plain": [
              "array([[1., 0.],\n",
              "       [0., 1.],\n",
              "       [1., 0.],\n",
              "       ...,\n",
              "       [1., 0.],\n",
              "       [1., 0.],\n",
              "       [1., 0.]], dtype=float32)"
            ]
          },
          "metadata": {
            "tags": []
          },
          "execution_count": 33
        }
      ]
    },
    {
      "cell_type": "markdown",
      "metadata": {
        "id": "O-fUgBVzPxgh"
      },
      "source": [
        "**Model Training**"
      ]
    },
    {
      "cell_type": "code",
      "metadata": {
        "colab": {
          "base_uri": "https://localhost:8080/"
        },
        "id": "PUZoLZ4dKBZ1",
        "outputId": "d13f0d9a-2c53-4498-8dba-1874c571be50"
      },
      "source": [
        "# model training\n",
        "batch_size = 4\n",
        "epochs = 30\n",
        "\n",
        "hist = model_cnn.fit(X_train_pad, y_train, \n",
        "                 batch_size=batch_size,\n",
        "                 epochs=epochs,\n",
        "                 validation_data=(X_test_pad,y_test), \n",
        "                 callbacks=[early_stopping, checkpointer])"
      ],
      "execution_count": null,
      "outputs": [
        {
          "output_type": "stream",
          "text": [
            "Epoch 1/30\n",
            "596/596 [==============================] - 8s 13ms/step - loss: 0.6794 - accuracy: 0.6518 - val_loss: 0.6185 - val_accuracy: 0.6695\n",
            "\n",
            "Epoch 00001: val_loss improved from inf to 0.61855, saving model to weights_datasetv2_cnnv2.hdf5\n",
            "Epoch 2/30\n",
            "596/596 [==============================] - 8s 13ms/step - loss: 0.3789 - accuracy: 0.8375 - val_loss: 0.5354 - val_accuracy: 0.7852\n",
            "\n",
            "Epoch 00002: val_loss improved from 0.61855 to 0.53544, saving model to weights_datasetv2_cnnv2.hdf5\n",
            "Epoch 3/30\n",
            "596/596 [==============================] - 8s 13ms/step - loss: 0.2395 - accuracy: 0.9048 - val_loss: 0.6987 - val_accuracy: 0.7466\n",
            "\n",
            "Epoch 00003: val_loss did not improve from 0.53544\n",
            "Epoch 4/30\n",
            "596/596 [==============================] - 8s 13ms/step - loss: 0.1583 - accuracy: 0.9362 - val_loss: 0.4818 - val_accuracy: 0.8255\n",
            "\n",
            "Epoch 00004: val_loss improved from 0.53544 to 0.48182, saving model to weights_datasetv2_cnnv2.hdf5\n",
            "Epoch 5/30\n",
            "596/596 [==============================] - 8s 13ms/step - loss: 0.0812 - accuracy: 0.9750 - val_loss: 0.7861 - val_accuracy: 0.7819\n",
            "\n",
            "Epoch 00005: val_loss did not improve from 0.48182\n",
            "Epoch 6/30\n",
            "596/596 [==============================] - 8s 13ms/step - loss: 0.0799 - accuracy: 0.9742 - val_loss: 0.6012 - val_accuracy: 0.8238\n",
            "\n",
            "Epoch 00006: val_loss did not improve from 0.48182\n",
            "Epoch 7/30\n",
            "596/596 [==============================] - 8s 13ms/step - loss: 0.0559 - accuracy: 0.9799 - val_loss: 0.8101 - val_accuracy: 0.8154\n",
            "\n",
            "Epoch 00007: val_loss did not improve from 0.48182\n",
            "Epoch 8/30\n",
            "596/596 [==============================] - 8s 13ms/step - loss: 0.0179 - accuracy: 0.9952 - val_loss: 0.8128 - val_accuracy: 0.8171\n",
            "\n",
            "Epoch 00008: val_loss did not improve from 0.48182\n",
            "Epoch 9/30\n",
            "596/596 [==============================] - 8s 13ms/step - loss: 0.0424 - accuracy: 0.9851 - val_loss: 1.1202 - val_accuracy: 0.8104\n",
            "\n",
            "Epoch 00009: val_loss did not improve from 0.48182\n",
            "Epoch 10/30\n",
            "596/596 [==============================] - 8s 13ms/step - loss: 0.1051 - accuracy: 0.9623 - val_loss: 0.9801 - val_accuracy: 0.7768\n",
            "\n",
            "Epoch 00010: val_loss did not improve from 0.48182\n",
            "Epoch 11/30\n",
            "596/596 [==============================] - 8s 13ms/step - loss: 0.0155 - accuracy: 0.9967 - val_loss: 0.9794 - val_accuracy: 0.7936\n",
            "\n",
            "Epoch 00011: val_loss did not improve from 0.48182\n",
            "Epoch 12/30\n",
            "596/596 [==============================] - 8s 13ms/step - loss: 0.0214 - accuracy: 0.9940 - val_loss: 0.8338 - val_accuracy: 0.8070\n",
            "\n",
            "Epoch 00012: val_loss did not improve from 0.48182\n",
            "Epoch 13/30\n",
            "596/596 [==============================] - 8s 13ms/step - loss: 0.0219 - accuracy: 0.9904 - val_loss: 0.9642 - val_accuracy: 0.7919\n",
            "\n",
            "Epoch 00013: val_loss did not improve from 0.48182\n",
            "Epoch 14/30\n",
            "596/596 [==============================] - 8s 13ms/step - loss: 0.0370 - accuracy: 0.9868 - val_loss: 0.9928 - val_accuracy: 0.8087\n",
            "\n",
            "Epoch 00014: val_loss did not improve from 0.48182\n",
            "Epoch 00014: early stopping\n"
          ],
          "name": "stdout"
        }
      ]
    },
    {
      "cell_type": "markdown",
      "metadata": {
        "id": "CDQCbkBYQP2Y"
      },
      "source": [
        "**Save Model and Weights**"
      ]
    },
    {
      "cell_type": "code",
      "metadata": {
        "id": "4cJj0kGxiUL8"
      },
      "source": [
        "# Save the model to disk\n",
        "model_json = model_cnn.to_json()\n",
        "with open(\"model_json.json\", \"w\") as json_file:\n",
        "    json_file.write(model_json)"
      ],
      "execution_count": null,
      "outputs": []
    },
    {
      "cell_type": "code",
      "metadata": {
        "colab": {
          "base_uri": "https://localhost:8080/"
        },
        "id": "rVd9Dg20iCAO",
        "outputId": "8c692fc7-ae9d-4cfe-e106-3d38f09e91bc"
      },
      "source": [
        "# loading json and model architecture \n",
        "json_file = open('model_json.json', 'r')\n",
        "loaded_model_json = json_file.read()\n",
        "json_file.close()\n",
        "loaded_model = model_from_json(loaded_model_json)\n",
        "\n",
        "# load weights into new model\n",
        "loaded_model.load_weights(\"weights_datasetv2_cnnv2.hdf5\")\n",
        "print(\"Model Loaded\")\n",
        "\n",
        "# the optimiser\n",
        "loaded_model.compile(loss = 'categorical_crossentropy', optimizer = 'adam', metrics = ['accuracy'])"
      ],
      "execution_count": null,
      "outputs": [
        {
          "output_type": "stream",
          "text": [
            "Model Loaded\n"
          ],
          "name": "stdout"
        }
      ]
    },
    {
      "cell_type": "code",
      "metadata": {
        "id": "mktWhFGbLEiM"
      },
      "source": [
        "class_names = ['negative', 'positive']\n",
        "predictions = loaded_model.predict(X_test_pad)\n",
        "predictions = np.argmax(predictions, axis=1)\n",
        "predictions = [class_names[pred] for pred in predictions]"
      ],
      "execution_count": null,
      "outputs": []
    },
    {
      "cell_type": "code",
      "metadata": {
        "id": "EjWbHyfTLOtl"
      },
      "source": [
        "y_test1 = np.argmax(y_test, axis=1)\n",
        "y_test1 = [class_names[x] for x in y_test1]"
      ],
      "execution_count": null,
      "outputs": []
    },
    {
      "cell_type": "code",
      "metadata": {
        "colab": {
          "base_uri": "https://localhost:8080/"
        },
        "id": "vD2lURIoLOxc",
        "outputId": "d85c8071-2736-4a78-f5c3-d6ba957c5204"
      },
      "source": [
        "print(\"Accuracy: {:.2f}%\".format(accuracy_score(y_test1, predictions) * 100))\n",
        "print(\"\\nF1 Score: {:.2f}\".format(f1_score(y_test1, predictions, average='micro') * 100))"
      ],
      "execution_count": null,
      "outputs": [
        {
          "output_type": "stream",
          "text": [
            "Accuracy: 82.55%\n",
            "\n",
            "F1 Score: 82.55\n"
          ],
          "name": "stdout"
        }
      ]
    },
    {
      "cell_type": "code",
      "metadata": {
        "id": "TTpJGq5zLO11"
      },
      "source": [
        "def plot_confusion_matrix(y_true, y_pred, classes,\n",
        "                          normalize=False,\n",
        "                          title=None,\n",
        "                          cmap=plt.cm.Blues):\n",
        "    '''\n",
        "    This function prints and plots the confusion matrix.\n",
        "    Normalization can be applied by setting `normalize=True`.\n",
        "    '''\n",
        "    if not title:\n",
        "        if normalize:\n",
        "            title = 'Normalized confusion matrix'\n",
        "        else:\n",
        "            title = 'Confusion matrix, without normalization'\n",
        "\n",
        "    # Compute confusion matrix\n",
        "    cm = confusion_matrix(y_true, y_pred)\n",
        "\n",
        "    if normalize:\n",
        "        cm = cm.astype('float') / cm.sum(axis=1)[:, np.newaxis]\n",
        "\n",
        "    fig, ax = plt.subplots()\n",
        "    \n",
        "    # Set size\n",
        "    fig.set_size_inches(12.5, 7.5)\n",
        "    im = ax.imshow(cm, interpolation='nearest', cmap=cmap)\n",
        "    ax.figure.colorbar(im, ax=ax)\n",
        "    ax.grid(False)\n",
        "    \n",
        "    # We want to show all ticks...\n",
        "    ax.set(xticks=np.arange(cm.shape[1]),\n",
        "           yticks=np.arange(cm.shape[0]),\n",
        "           # ... and label them with the respective list entries\n",
        "           xticklabels=classes, yticklabels=classes,\n",
        "           title=title,\n",
        "           ylabel='True label',\n",
        "           xlabel='Predicted label')\n",
        "\n",
        "    # Rotate the tick labels and set their alignment.\n",
        "    plt.setp(ax.get_xticklabels(), rotation=45, ha=\"right\",\n",
        "             rotation_mode=\"anchor\")\n",
        "\n",
        "    # Loop over data dimensions and create text annotations.\n",
        "    fmt = '.2f' if normalize else 'd'\n",
        "    thresh = cm.max() / 2.\n",
        "    for i in range(cm.shape[0]):\n",
        "        for j in range(cm.shape[1]):\n",
        "            ax.text(j, i, format(cm[i, j], fmt),\n",
        "                    ha=\"center\", va=\"center\",\n",
        "                    color=\"white\" if cm[i, j] > thresh else \"black\")\n",
        "    fig.tight_layout()\n",
        "    return ax"
      ],
      "execution_count": null,
      "outputs": []
    },
    {
      "cell_type": "code",
      "metadata": {
        "colab": {
          "base_uri": "https://localhost:8080/",
          "height": 583
        },
        "id": "0byClU4bLW1L",
        "outputId": "525490e5-ce3c-44f6-8dc9-02f0676631ab"
      },
      "source": [
        "print(\"\\nF1 Score: {:.2f}\".format(f1_score(y_test1, predictions, average='micro') * 100))\n",
        "\n",
        "# Plot normalized confusion matrix\n",
        "plot_confusion_matrix(y_test1, predictions, classes=class_names, normalize=True, title='Normalized confusion matrix')\n",
        "plt.show()"
      ],
      "execution_count": null,
      "outputs": [
        {
          "output_type": "stream",
          "text": [
            "\n",
            "F1 Score: 82.55\n"
          ],
          "name": "stdout"
        },
        {
          "output_type": "display_data",
          "data": {
            "image/png": "[encoded data removed]",
            "text/plain": [
              "<Figure size 900x540 with 2 Axes>"
            ]
          },
          "metadata": {
            "tags": [],
            "needs_background": "light"
          }
        }
      ]
    },
    {
      "cell_type": "code",
      "metadata": {
        "colab": {
          "base_uri": "https://localhost:8080/"
        },
        "id": "7aeegX1eLZmP",
        "outputId": "855f68a7-fcfa-4604-dc83-2f879fcce3f9"
      },
      "source": [
        "loaded_model.save(\"my_model2\")"
      ],
      "execution_count": null,
      "outputs": [
        {
          "output_type": "stream",
          "text": [
            "INFO:tensorflow:Assets written to: my_model2/assets\n"
          ],
          "name": "stdout"
        }
      ]
    },
    {
      "cell_type": "code",
      "metadata": {
        "id": "qxKMIQlVLbuj"
      },
      "source": [
        "import tensorflow as tf\n",
        "converter = tf.lite.TFLiteConverter.from_saved_model(\"my_model2\")\n",
        "converter.optimizations = [tf.lite.Optimize.DEFAULT]\n",
        "tflite_quant_model = converter.convert()\n",
        "\n",
        "# Save the model.\n",
        "with open('model.tflite', 'wb') as f:\n",
        "  f.write(tflite_quant_model)"
      ],
      "execution_count": null,
      "outputs": []
    },
    {
      "cell_type": "code",
      "metadata": {
        "colab": {
          "base_uri": "https://localhost:8080/"
        },
        "id": "Mm-w9XB2Lqr4",
        "outputId": "1f7c9047-5958-49f8-b994-a78451f460f6"
      },
      "source": [
        "text = \"it is a very bad day \"\n",
        "tokens= tokenizer.encode(text, add_special_tokens=False)\n",
        "len1 = 100 - len(tokens)\n",
        "for i in range(len1):\n",
        "  tokens.append(0)\n",
        "\n",
        "tokens = np.asarray(tokens)\n",
        "tok = np.expand_dims(tokens, axis=0)\n",
        "out = model_cnn.predict(tok)\n",
        "predictions1 = np.argmax(out, axis=1)\n",
        "pred1 = [class_names[pred] for pred in predictions1]\n",
        "pred1"
      ],
      "execution_count": null,
      "outputs": [
        {
          "output_type": "execute_result",
          "data": {
            "text/plain": [
              "['negative']"
            ]
          },
          "metadata": {
            "tags": []
          },
          "execution_count": 71
        }
      ]
    },
    {
      "cell_type": "code",
      "metadata": {
        "id": "74lkxwGpRBOT"
      },
      "source": [
        ""
      ],
      "execution_count": null,
      "outputs": []
    },
    {
      "cell_type": "code",
      "metadata": {
        "id": "Libls9fMWlBY"
      },
      "source": [
        ""
      ],
      "execution_count": null,
      "outputs": []
    }
  ]
}